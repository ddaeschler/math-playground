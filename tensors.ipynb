{
 "cells": [
  {
   "cell_type": "code",
   "id": "initial_id",
   "metadata": {
    "collapsed": true,
    "ExecuteTime": {
     "end_time": "2024-12-02T14:28:47.011097Z",
     "start_time": "2024-12-02T14:28:46.525618Z"
    }
   },
   "source": [
    "import torch\n",
    "\n",
    "data = [[1, 0, 0],\n",
    "        [0, 2, 0],\n",
    "        [0, 0, 3]]\n",
    "v = torch.tensor(data)\n",
    "v"
   ],
   "outputs": [
    {
     "data": {
      "text/plain": [
       "tensor([[1, 0, 0],\n",
       "        [0, 2, 0],\n",
       "        [0, 0, 3]])"
      ]
     },
     "execution_count": 1,
     "metadata": {},
     "output_type": "execute_result"
    }
   ],
   "execution_count": 1
  },
  {
   "metadata": {
    "ExecuteTime": {
     "end_time": "2024-12-02T14:28:48.543242Z",
     "start_time": "2024-12-02T14:28:48.539955Z"
    }
   },
   "cell_type": "code",
   "source": [
    "# 2 separate stacks of 3, 3x3 matrices\n",
    "torch.zeros((2,3,3,3))"
   ],
   "id": "f02a712ac5e38a4",
   "outputs": [
    {
     "data": {
      "text/plain": [
       "tensor([[[[0., 0., 0.],\n",
       "          [0., 0., 0.],\n",
       "          [0., 0., 0.]],\n",
       "\n",
       "         [[0., 0., 0.],\n",
       "          [0., 0., 0.],\n",
       "          [0., 0., 0.]],\n",
       "\n",
       "         [[0., 0., 0.],\n",
       "          [0., 0., 0.],\n",
       "          [0., 0., 0.]]],\n",
       "\n",
       "\n",
       "        [[[0., 0., 0.],\n",
       "          [0., 0., 0.],\n",
       "          [0., 0., 0.]],\n",
       "\n",
       "         [[0., 0., 0.],\n",
       "          [0., 0., 0.],\n",
       "          [0., 0., 0.]],\n",
       "\n",
       "         [[0., 0., 0.],\n",
       "          [0., 0., 0.],\n",
       "          [0., 0., 0.]]]])"
      ]
     },
     "execution_count": 2,
     "metadata": {},
     "output_type": "execute_result"
    }
   ],
   "execution_count": 2
  },
  {
   "metadata": {
    "ExecuteTime": {
     "end_time": "2024-12-02T18:40:47.721796Z",
     "start_time": "2024-12-02T18:40:47.715826Z"
    }
   },
   "cell_type": "code",
   "source": [
    "# Input vectors (1x3) (BxF)\n",
    "x = torch.tensor([[0, 1, 2]], dtype=torch.float32)\n",
    "\n",
    "# Weight matrices (1x3)\n",
    "W_Q = torch.tensor([[1, 1, 1]], dtype=torch.float32)\n",
    "W_K = torch.tensor([[2, 5, 2]], dtype=torch.float32)\n",
    "W_V = torch.tensor([[1, 1, 1]], dtype=torch.float32)\n",
    "\n",
    "x = x.unsqueeze(2)\n",
    "\n",
    "print(x)\n",
    "print(x.shape)\n",
    "\n",
    "# Compute Q, K, V (Bx3x1 @ Bx1x3 = Bx3x3)\n",
    "Q = x @ W_Q\n",
    "K = x @ W_K\n",
    "V = x @ W_V\n",
    "\n",
    "print(\"Q:\", Q)\n",
    "print(\"K:\", K)\n",
    "print(\"V:\", V)"
   ],
   "id": "ef8835c0e650cd13",
   "outputs": [
    {
     "name": "stdout",
     "output_type": "stream",
     "text": [
      "tensor([[[0.],\n",
      "         [1.],\n",
      "         [2.]]])\n",
      "torch.Size([1, 3, 1])\n",
      "Q: tensor([[[0., 0., 0.],\n",
      "         [1., 1., 1.],\n",
      "         [2., 2., 2.]]])\n",
      "K: tensor([[[ 0.,  0.,  0.],\n",
      "         [ 2.,  5.,  2.],\n",
      "         [ 4., 10.,  4.]]])\n",
      "V: tensor([[[0., 0., 0.],\n",
      "         [1., 1., 1.],\n",
      "         [2., 2., 2.]]])\n"
     ]
    }
   ],
   "execution_count": 42
  },
  {
   "metadata": {
    "ExecuteTime": {
     "end_time": "2024-12-02T18:43:01.978747Z",
     "start_time": "2024-12-02T18:43:01.975739Z"
    }
   },
   "cell_type": "code",
   "source": [
    "import torch.nn.functional as F\n",
    "\n",
    "# Compute attention scores (3x2 @ 2x3 = 3x3)\n",
    "scores = Q @ K.transpose(1, 2) / torch.sqrt(torch.tensor(3.0))\n",
    "attention_scores = F.softmax(scores, dim=-1)\n",
    "\n",
    "print(\"Scores:\", scores[0])\n",
    "print(\"Attention Scores:\", attention_scores[0])\n",
    "print(attention_scores.shape)\n",
    "v = attention_scores @ V.transpose(1, 2)\n",
    "print(v)"
   ],
   "id": "5ad7b2d972b34ff1",
   "outputs": [
    {
     "name": "stdout",
     "output_type": "stream",
     "text": [
      "Scores: tensor([[ 0.0000,  0.0000,  0.0000],\n",
      "        [ 0.0000,  5.1962, 10.3923],\n",
      "        [ 0.0000, 10.3923, 20.7846]])\n",
      "Attention Scores: tensor([[3.3333e-01, 3.3333e-01, 3.3333e-01],\n",
      "        [3.0498e-05, 5.5072e-03, 9.9446e-01],\n",
      "        [9.4047e-10, 3.0667e-05, 9.9997e-01]])\n",
      "torch.Size([1, 3, 3])\n",
      "tensor([[[0., 1., 2.],\n",
      "         [0., 1., 2.],\n",
      "         [0., 1., 2.]]])\n"
     ]
    }
   ],
   "execution_count": 45
  },
  {
   "metadata": {},
   "cell_type": "code",
   "outputs": [],
   "execution_count": null,
   "source": "",
   "id": "e701eb93c4392613"
  }
 ],
 "metadata": {
  "kernelspec": {
   "display_name": "Python 3",
   "language": "python",
   "name": "python3"
  },
  "language_info": {
   "codemirror_mode": {
    "name": "ipython",
    "version": 2
   },
   "file_extension": ".py",
   "mimetype": "text/x-python",
   "name": "python",
   "nbconvert_exporter": "python",
   "pygments_lexer": "ipython2",
   "version": "2.7.6"
  }
 },
 "nbformat": 4,
 "nbformat_minor": 5
}
