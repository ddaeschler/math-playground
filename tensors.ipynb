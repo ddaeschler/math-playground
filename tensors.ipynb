{
 "cells": [
  {
   "cell_type": "code",
   "id": "initial_id",
   "metadata": {
    "collapsed": true,
    "ExecuteTime": {
     "end_time": "2024-12-02T14:28:47.011097Z",
     "start_time": "2024-12-02T14:28:46.525618Z"
    }
   },
   "source": [
    "import torch\n",
    "\n",
    "data = [[1, 0, 0],\n",
    "        [0, 2, 0],\n",
    "        [0, 0, 3]]\n",
    "v = torch.tensor(data)\n",
    "v"
   ],
   "outputs": [
    {
     "data": {
      "text/plain": [
       "tensor([[1, 0, 0],\n",
       "        [0, 2, 0],\n",
       "        [0, 0, 3]])"
      ]
     },
     "execution_count": 1,
     "metadata": {},
     "output_type": "execute_result"
    }
   ],
   "execution_count": 1
  },
  {
   "metadata": {
    "ExecuteTime": {
     "end_time": "2024-12-02T14:28:48.543242Z",
     "start_time": "2024-12-02T14:28:48.539955Z"
    }
   },
   "cell_type": "code",
   "source": [
    "# 2 separate stacks of 3, 3x3 matrices\n",
    "torch.zeros((2,3,3,3))"
   ],
   "id": "f02a712ac5e38a4",
   "outputs": [
    {
     "data": {
      "text/plain": [
       "tensor([[[[0., 0., 0.],\n",
       "          [0., 0., 0.],\n",
       "          [0., 0., 0.]],\n",
       "\n",
       "         [[0., 0., 0.],\n",
       "          [0., 0., 0.],\n",
       "          [0., 0., 0.]],\n",
       "\n",
       "         [[0., 0., 0.],\n",
       "          [0., 0., 0.],\n",
       "          [0., 0., 0.]]],\n",
       "\n",
       "\n",
       "        [[[0., 0., 0.],\n",
       "          [0., 0., 0.],\n",
       "          [0., 0., 0.]],\n",
       "\n",
       "         [[0., 0., 0.],\n",
       "          [0., 0., 0.],\n",
       "          [0., 0., 0.]],\n",
       "\n",
       "         [[0., 0., 0.],\n",
       "          [0., 0., 0.],\n",
       "          [0., 0., 0.]]]])"
      ]
     },
     "execution_count": 2,
     "metadata": {},
     "output_type": "execute_result"
    }
   ],
   "execution_count": 2
  },
  {
   "metadata": {
    "ExecuteTime": {
     "end_time": "2024-12-02T18:09:06.098354Z",
     "start_time": "2024-12-02T18:09:06.094064Z"
    }
   },
   "cell_type": "code",
   "source": [
    "# Input vectors (4x3) (BxF)\n",
    "x = torch.tensor([[0, 1, 2],\n",
    "                  [3, 4, 5],\n",
    "                  [6, 7, 8],\n",
    "                  [9, 9, 9]], dtype=torch.float32)\n",
    "\n",
    "# Weight matrices (1x3)\n",
    "W_Q = torch.tensor([[1, 1, 1]], dtype=torch.float32)\n",
    "W_K = torch.tensor([[2, 2, 2]], dtype=torch.float32)\n",
    "W_V = torch.tensor([[3, 3, 3]], dtype=torch.float32)\n",
    "\n",
    "x = x.unsqueeze(2)\n",
    "\n",
    "print(x)\n",
    "print(x.shape)\n",
    "\n",
    "# Compute Q, K, V (Bx3x1 @ Bx1x3 = Bx3x3)\n",
    "Q = x @ W_Q\n",
    "K = x @ W_K\n",
    "V = x @ W_V\n",
    "\n",
    "print(\"Q:\", Q)\n",
    "print(\"K:\", K)\n",
    "print(\"V:\", V)"
   ],
   "id": "ef8835c0e650cd13",
   "outputs": [
    {
     "name": "stdout",
     "output_type": "stream",
     "text": [
      "tensor([[[0.],\n",
      "         [1.],\n",
      "         [2.]],\n",
      "\n",
      "        [[3.],\n",
      "         [4.],\n",
      "         [5.]],\n",
      "\n",
      "        [[6.],\n",
      "         [7.],\n",
      "         [8.]],\n",
      "\n",
      "        [[9.],\n",
      "         [9.],\n",
      "         [9.]]])\n",
      "torch.Size([4, 3, 1])\n",
      "Q: tensor([[[0., 0., 0.],\n",
      "         [1., 1., 1.],\n",
      "         [2., 2., 2.]],\n",
      "\n",
      "        [[3., 3., 3.],\n",
      "         [4., 4., 4.],\n",
      "         [5., 5., 5.]],\n",
      "\n",
      "        [[6., 6., 6.],\n",
      "         [7., 7., 7.],\n",
      "         [8., 8., 8.]],\n",
      "\n",
      "        [[9., 9., 9.],\n",
      "         [9., 9., 9.],\n",
      "         [9., 9., 9.]]])\n",
      "K: tensor([[[ 0.,  0.,  0.],\n",
      "         [ 2.,  2.,  2.],\n",
      "         [ 4.,  4.,  4.]],\n",
      "\n",
      "        [[ 6.,  6.,  6.],\n",
      "         [ 8.,  8.,  8.],\n",
      "         [10., 10., 10.]],\n",
      "\n",
      "        [[12., 12., 12.],\n",
      "         [14., 14., 14.],\n",
      "         [16., 16., 16.]],\n",
      "\n",
      "        [[18., 18., 18.],\n",
      "         [18., 18., 18.],\n",
      "         [18., 18., 18.]]])\n",
      "V: tensor([[[ 0.,  0.,  0.],\n",
      "         [ 3.,  3.,  3.],\n",
      "         [ 6.,  6.,  6.]],\n",
      "\n",
      "        [[ 9.,  9.,  9.],\n",
      "         [12., 12., 12.],\n",
      "         [15., 15., 15.]],\n",
      "\n",
      "        [[18., 18., 18.],\n",
      "         [21., 21., 21.],\n",
      "         [24., 24., 24.]],\n",
      "\n",
      "        [[27., 27., 27.],\n",
      "         [27., 27., 27.],\n",
      "         [27., 27., 27.]]])\n"
     ]
    }
   ],
   "execution_count": 23
  },
  {
   "metadata": {
    "ExecuteTime": {
     "end_time": "2024-12-02T18:09:58.125515Z",
     "start_time": "2024-12-02T18:09:58.121031Z"
    }
   },
   "cell_type": "code",
   "source": [
    "import torch.nn.functional as F\n",
    "\n",
    "# Compute attention scores (3x2 @ 2x3 = 3x3)\n",
    "scores = Q @ K.transpose(1, 2) / torch.sqrt(torch.tensor(2.0))\n",
    "attention_scores = F.softmax(scores, dim=-1)\n",
    "\n",
    "print(\"Attention Scores:\", attention_scores)\n",
    "print(attention_scores.shape)"
   ],
   "id": "5ad7b2d972b34ff1",
   "outputs": [
    {
     "name": "stdout",
     "output_type": "stream",
     "text": [
      "Attention Scores: tensor([[[3.3333e-01, 3.3333e-01, 3.3333e-01],\n",
      "         [2.0352e-04, 1.4163e-02, 9.8563e-01],\n",
      "         [4.2627e-08, 2.0644e-04, 9.9979e-01]],\n",
      "\n",
      "        [[8.8037e-12, 2.9671e-06, 1.0000e+00],\n",
      "         [1.8178e-15, 4.2636e-08, 1.0000e+00],\n",
      "         [3.7536e-19, 6.1266e-10, 1.0000e+00]],\n",
      "\n",
      "        [[7.7505e-23, 8.8038e-12, 1.0000e+00],\n",
      "         [1.6004e-26, 1.2651e-13, 1.0000e+00],\n",
      "         [3.3045e-30, 1.8178e-15, 1.0000e+00]],\n",
      "\n",
      "        [[3.3333e-01, 3.3333e-01, 3.3333e-01],\n",
      "         [3.3333e-01, 3.3333e-01, 3.3333e-01],\n",
      "         [3.3333e-01, 3.3333e-01, 3.3333e-01]]])\n",
      "torch.Size([4, 3, 3])\n"
     ]
    }
   ],
   "execution_count": 25
  },
  {
   "metadata": {},
   "cell_type": "code",
   "outputs": [],
   "execution_count": null,
   "source": "",
   "id": "e701eb93c4392613"
  }
 ],
 "metadata": {
  "kernelspec": {
   "display_name": "Python 3",
   "language": "python",
   "name": "python3"
  },
  "language_info": {
   "codemirror_mode": {
    "name": "ipython",
    "version": 2
   },
   "file_extension": ".py",
   "mimetype": "text/x-python",
   "name": "python",
   "nbconvert_exporter": "python",
   "pygments_lexer": "ipython2",
   "version": "2.7.6"
  }
 },
 "nbformat": 4,
 "nbformat_minor": 5
}
