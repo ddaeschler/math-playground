{
 "cells": [
  {
   "cell_type": "code",
   "id": "initial_id",
   "metadata": {
    "collapsed": true,
    "ExecuteTime": {
     "end_time": "2024-11-30T00:35:10.799847Z",
     "start_time": "2024-11-30T00:35:10.794641Z"
    }
   },
   "source": [
    "import torch\n",
    "\n",
    "data = [[1, 0, 0],\n",
    "        [0, 2, 0],\n",
    "        [0, 0, 3]]\n",
    "v = torch.tensor(data)\n",
    "v"
   ],
   "outputs": [
    {
     "data": {
      "text/plain": [
       "tensor([[1, 0, 0],\n",
       "        [0, 2, 0],\n",
       "        [0, 0, 3]])"
      ]
     },
     "execution_count": 2,
     "metadata": {},
     "output_type": "execute_result"
    }
   ],
   "execution_count": 2
  },
  {
   "metadata": {
    "ExecuteTime": {
     "end_time": "2024-11-30T00:36:13.666951Z",
     "start_time": "2024-11-30T00:36:13.663637Z"
    }
   },
   "cell_type": "code",
   "source": [
    "# 2 separate stacks of 3, 3x3 matrices\n",
    "torch.zeros((2,3,3,3))"
   ],
   "id": "f02a712ac5e38a4",
   "outputs": [
    {
     "data": {
      "text/plain": [
       "tensor([[[[0., 0., 0.],\n",
       "          [0., 0., 0.],\n",
       "          [0., 0., 0.]],\n",
       "\n",
       "         [[0., 0., 0.],\n",
       "          [0., 0., 0.],\n",
       "          [0., 0., 0.]],\n",
       "\n",
       "         [[0., 0., 0.],\n",
       "          [0., 0., 0.],\n",
       "          [0., 0., 0.]]],\n",
       "\n",
       "\n",
       "        [[[0., 0., 0.],\n",
       "          [0., 0., 0.],\n",
       "          [0., 0., 0.]],\n",
       "\n",
       "         [[0., 0., 0.],\n",
       "          [0., 0., 0.],\n",
       "          [0., 0., 0.]],\n",
       "\n",
       "         [[0., 0., 0.],\n",
       "          [0., 0., 0.],\n",
       "          [0., 0., 0.]]]])"
      ]
     },
     "execution_count": 5,
     "metadata": {},
     "output_type": "execute_result"
    }
   ],
   "execution_count": 5
  },
  {
   "metadata": {
    "ExecuteTime": {
     "end_time": "2024-11-30T01:08:37.039405Z",
     "start_time": "2024-11-30T01:08:37.034666Z"
    }
   },
   "cell_type": "code",
   "source": [
    "# Input vectors (3x2)\n",
    "x = torch.tensor([[0, 1],\n",
    "                  [2, 3],\n",
    "                  [4, 5]], dtype=torch.float32)\n",
    "\n",
    "# Weight matrices (2x2)\n",
    "W_Q = torch.tensor([[1, 0],\n",
    "                    [0, 1]], dtype=torch.float32)\n",
    "W_K = torch.tensor([[0, 1],\n",
    "                    [1, 0]], dtype=torch.float32)\n",
    "W_V = torch.tensor([[1, 2],\n",
    "                    [3, 4]], dtype=torch.float32)\n",
    "\n",
    "# Compute Q, K, V (3x2 @ 2x2 = 3x2)\n",
    "Q = x @ W_Q\n",
    "K = x @ W_K\n",
    "V = x @ W_V\n",
    "\n",
    "print(\"Q:\", Q)\n",
    "print(\"K:\", K)\n",
    "print(\"V:\", V)"
   ],
   "id": "ef8835c0e650cd13",
   "outputs": [
    {
     "name": "stdout",
     "output_type": "stream",
     "text": [
      "Q: tensor([[0., 1.],\n",
      "        [2., 3.],\n",
      "        [4., 5.]])\n",
      "K: tensor([[1., 0.],\n",
      "        [3., 2.],\n",
      "        [5., 4.]])\n",
      "V: tensor([[ 3.,  4.],\n",
      "        [11., 16.],\n",
      "        [19., 28.]])\n"
     ]
    }
   ],
   "execution_count": 6
  },
  {
   "metadata": {
    "ExecuteTime": {
     "end_time": "2024-11-30T01:10:19.665144Z",
     "start_time": "2024-11-30T01:10:19.660184Z"
    }
   },
   "cell_type": "code",
   "source": [
    "import torch.nn.functional as F\n",
    "\n",
    "# Compute attention scores (3x2 @ 2x3 = 3x3)\n",
    "scores = Q @ K.T / torch.sqrt(torch.tensor(2.0))\n",
    "attention_scores = F.softmax(scores, dim=-1)\n",
    "\n",
    "print(\"Attention Scores:\", attention_scores)"
   ],
   "id": "5ad7b2d972b34ff1",
   "outputs": [
    {
     "name": "stdout",
     "output_type": "stream",
     "text": [
      "Attention Scores: tensor([[4.5388e-02, 1.8669e-01, 7.6792e-01],\n",
      "        [7.2074e-07, 8.4860e-04, 9.9915e-01],\n",
      "        [8.8037e-12, 2.9671e-06, 1.0000e+00]])\n"
     ]
    }
   ],
   "execution_count": 7
  },
  {
   "metadata": {},
   "cell_type": "code",
   "outputs": [],
   "execution_count": null,
   "source": "",
   "id": "e701eb93c4392613"
  }
 ],
 "metadata": {
  "kernelspec": {
   "display_name": "Python 3",
   "language": "python",
   "name": "python3"
  },
  "language_info": {
   "codemirror_mode": {
    "name": "ipython",
    "version": 2
   },
   "file_extension": ".py",
   "mimetype": "text/x-python",
   "name": "python",
   "nbconvert_exporter": "python",
   "pygments_lexer": "ipython2",
   "version": "2.7.6"
  }
 },
 "nbformat": 4,
 "nbformat_minor": 5
}
