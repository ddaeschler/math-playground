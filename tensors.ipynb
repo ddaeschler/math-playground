{
 "cells": [
  {
   "cell_type": "code",
   "id": "initial_id",
   "metadata": {
    "collapsed": true,
    "ExecuteTime": {
     "end_time": "2024-12-17T14:20:21.151398Z",
     "start_time": "2024-12-17T14:20:21.148454Z"
    }
   },
   "source": [
    "import torch\n",
    "\n",
    "data = [[1, 0, 0],\n",
    "        [0, 2, 0],\n",
    "        [0, 0, 3]]\n",
    "v = torch.tensor(data)\n",
    "v"
   ],
   "outputs": [
    {
     "data": {
      "text/plain": [
       "tensor([[1, 0, 0],\n",
       "        [0, 2, 0],\n",
       "        [0, 0, 3]])"
      ]
     },
     "execution_count": 2,
     "metadata": {},
     "output_type": "execute_result"
    }
   ],
   "execution_count": 2
  },
  {
   "metadata": {
    "ExecuteTime": {
     "end_time": "2024-12-17T14:20:21.192900Z",
     "start_time": "2024-12-17T14:20:21.179388Z"
    }
   },
   "cell_type": "code",
   "source": [
    "# 2 separate stacks of 3, 3x3 matrices\n",
    "torch.zeros((2,3,3,3))"
   ],
   "id": "f02a712ac5e38a4",
   "outputs": [
    {
     "data": {
      "text/plain": [
       "tensor([[[[0., 0., 0.],\n",
       "          [0., 0., 0.],\n",
       "          [0., 0., 0.]],\n",
       "\n",
       "         [[0., 0., 0.],\n",
       "          [0., 0., 0.],\n",
       "          [0., 0., 0.]],\n",
       "\n",
       "         [[0., 0., 0.],\n",
       "          [0., 0., 0.],\n",
       "          [0., 0., 0.]]],\n",
       "\n",
       "\n",
       "        [[[0., 0., 0.],\n",
       "          [0., 0., 0.],\n",
       "          [0., 0., 0.]],\n",
       "\n",
       "         [[0., 0., 0.],\n",
       "          [0., 0., 0.],\n",
       "          [0., 0., 0.]],\n",
       "\n",
       "         [[0., 0., 0.],\n",
       "          [0., 0., 0.],\n",
       "          [0., 0., 0.]]]])"
      ]
     },
     "execution_count": 3,
     "metadata": {},
     "output_type": "execute_result"
    }
   ],
   "execution_count": 3
  },
  {
   "metadata": {
    "ExecuteTime": {
     "end_time": "2024-12-17T14:20:21.218520Z",
     "start_time": "2024-12-17T14:20:21.210061Z"
    }
   },
   "cell_type": "code",
   "source": [
    "# Input vectors (1x3) (BxF)\n",
    "x = torch.tensor([[0, 1, 2]], dtype=torch.float32)\n",
    "\n",
    "# Weight matrices (1x3)\n",
    "W_Q = torch.tensor([[1, 1, 1]], dtype=torch.float32)\n",
    "W_K = torch.tensor([[2, 5, 2]], dtype=torch.float32)\n",
    "W_V = torch.tensor([[1, 1, 1]], dtype=torch.float32)\n",
    "\n",
    "x = x.unsqueeze(2)\n",
    "\n",
    "print(x)\n",
    "print(x.shape)\n",
    "\n",
    "# Compute Q, K, V (Bx3x1 @ Bx1x3 = Bx3x3)\n",
    "Q = x @ W_Q\n",
    "K = x @ W_K\n",
    "V = x @ W_V\n",
    "\n",
    "print(\"Q:\", Q)\n",
    "print(\"K:\", K)\n",
    "print(\"V:\", V)"
   ],
   "id": "ef8835c0e650cd13",
   "outputs": [
    {
     "name": "stdout",
     "output_type": "stream",
     "text": [
      "tensor([[[0.],\n",
      "         [1.],\n",
      "         [2.]]])\n",
      "torch.Size([1, 3, 1])\n",
      "Q: tensor([[[0., 0., 0.],\n",
      "         [1., 1., 1.],\n",
      "         [2., 2., 2.]]])\n",
      "K: tensor([[[ 0.,  0.,  0.],\n",
      "         [ 2.,  5.,  2.],\n",
      "         [ 4., 10.,  4.]]])\n",
      "V: tensor([[[0., 0., 0.],\n",
      "         [1., 1., 1.],\n",
      "         [2., 2., 2.]]])\n"
     ]
    }
   ],
   "execution_count": 4
  },
  {
   "metadata": {
    "ExecuteTime": {
     "end_time": "2024-12-17T14:20:21.244039Z",
     "start_time": "2024-12-17T14:20:21.235975Z"
    }
   },
   "cell_type": "code",
   "source": [
    "import torch.nn.functional as F\n",
    "\n",
    "# Compute attention scores (3x2 @ 2x3 = 3x3)\n",
    "scores = Q @ K.transpose(1, 2) / torch.sqrt(torch.tensor(3.0))\n",
    "attention_scores = F.softmax(scores, dim=-1)\n",
    "\n",
    "print(\"Scores:\", scores[0])\n",
    "print(\"Attention Scores:\", attention_scores[0])\n",
    "print(attention_scores.shape)\n",
    "v = attention_scores @ V.transpose(1, 2)\n",
    "print(v)"
   ],
   "id": "5ad7b2d972b34ff1",
   "outputs": [
    {
     "name": "stdout",
     "output_type": "stream",
     "text": [
      "Scores: tensor([[ 0.0000,  0.0000,  0.0000],\n",
      "        [ 0.0000,  5.1962, 10.3923],\n",
      "        [ 0.0000, 10.3923, 20.7846]])\n",
      "Attention Scores: tensor([[3.3333e-01, 3.3333e-01, 3.3333e-01],\n",
      "        [3.0498e-05, 5.5072e-03, 9.9446e-01],\n",
      "        [9.4047e-10, 3.0667e-05, 9.9997e-01]])\n",
      "torch.Size([1, 3, 3])\n",
      "tensor([[[0., 1., 2.],\n",
      "         [0., 1., 2.],\n",
      "         [0., 1., 2.]]])\n"
     ]
    }
   ],
   "execution_count": 5
  },
  {
   "metadata": {
    "ExecuteTime": {
     "end_time": "2024-12-17T15:34:04.050585Z",
     "start_time": "2024-12-17T15:34:04.045492Z"
    }
   },
   "cell_type": "code",
   "source": [
    "x = [[[1, 2, 3, 4],\n",
    "      [5, 6, 7, 8],\n",
    "      [9, 10, 11, 12]],\n",
    "\n",
    "     [[13, 14, 15, 16],\n",
    "      [17, 18, 19, 20],\n",
    "      [21, 22, 23, 24]]]\n",
    "\n",
    "x = torch.tensor(x, dtype=torch.float32)\n",
    "x"
   ],
   "id": "e701eb93c4392613",
   "outputs": [
    {
     "data": {
      "text/plain": [
       "tensor([[[ 1.,  2.,  3.,  4.],\n",
       "         [ 5.,  6.,  7.,  8.],\n",
       "         [ 9., 10., 11., 12.]],\n",
       "\n",
       "        [[13., 14., 15., 16.],\n",
       "         [17., 18., 19., 20.],\n",
       "         [21., 22., 23., 24.]]])"
      ]
     },
     "execution_count": 22,
     "metadata": {},
     "output_type": "execute_result"
    }
   ],
   "execution_count": 22
  },
  {
   "metadata": {
    "ExecuteTime": {
     "end_time": "2024-12-17T15:34:05.119206Z",
     "start_time": "2024-12-17T15:34:05.114593Z"
    }
   },
   "cell_type": "code",
   "source": [
    "xv = x.view(2, 3, 2, 2)\n",
    "xv"
   ],
   "id": "e5f2379339e60fe7",
   "outputs": [
    {
     "data": {
      "text/plain": [
       "tensor([[[[ 1.,  2.],\n",
       "          [ 3.,  4.]],\n",
       "\n",
       "         [[ 5.,  6.],\n",
       "          [ 7.,  8.]],\n",
       "\n",
       "         [[ 9., 10.],\n",
       "          [11., 12.]]],\n",
       "\n",
       "\n",
       "        [[[13., 14.],\n",
       "          [15., 16.]],\n",
       "\n",
       "         [[17., 18.],\n",
       "          [19., 20.]],\n",
       "\n",
       "         [[21., 22.],\n",
       "          [23., 24.]]]])"
      ]
     },
     "execution_count": 23,
     "metadata": {},
     "output_type": "execute_result"
    }
   ],
   "execution_count": 23
  },
  {
   "metadata": {
    "ExecuteTime": {
     "end_time": "2024-12-17T15:34:05.321991Z",
     "start_time": "2024-12-17T15:34:05.319500Z"
    }
   },
   "cell_type": "code",
   "source": [
    "xvt = xv.transpose(1, 2)\n",
    "xvt"
   ],
   "id": "8ab377d96c5a1491",
   "outputs": [
    {
     "data": {
      "text/plain": [
       "tensor([[[[ 1.,  2.],\n",
       "          [ 5.,  6.],\n",
       "          [ 9., 10.]],\n",
       "\n",
       "         [[ 3.,  4.],\n",
       "          [ 7.,  8.],\n",
       "          [11., 12.]]],\n",
       "\n",
       "\n",
       "        [[[13., 14.],\n",
       "          [17., 18.],\n",
       "          [21., 22.]],\n",
       "\n",
       "         [[15., 16.],\n",
       "          [19., 20.],\n",
       "          [23., 24.]]]])"
      ]
     },
     "execution_count": 24,
     "metadata": {},
     "output_type": "execute_result"
    }
   ],
   "execution_count": 24
  },
  {
   "metadata": {
    "ExecuteTime": {
     "end_time": "2024-12-17T15:34:05.943071Z",
     "start_time": "2024-12-17T15:34:05.939042Z"
    }
   },
   "cell_type": "code",
   "source": [
    "xvtt = xvt.transpose(-1, -2)\n",
    "xvtt"
   ],
   "id": "810b5a192eee78d7",
   "outputs": [
    {
     "data": {
      "text/plain": [
       "tensor([[[[ 1.,  5.,  9.],\n",
       "          [ 2.,  6., 10.]],\n",
       "\n",
       "         [[ 3.,  7., 11.],\n",
       "          [ 4.,  8., 12.]]],\n",
       "\n",
       "\n",
       "        [[[13., 17., 21.],\n",
       "          [14., 18., 22.]],\n",
       "\n",
       "         [[15., 19., 23.],\n",
       "          [16., 20., 24.]]]])"
      ]
     },
     "execution_count": 25,
     "metadata": {},
     "output_type": "execute_result"
    }
   ],
   "execution_count": 25
  },
  {
   "metadata": {
    "ExecuteTime": {
     "end_time": "2024-12-17T15:34:06.673860Z",
     "start_time": "2024-12-17T15:34:06.669127Z"
    }
   },
   "cell_type": "code",
   "source": [
    "head = xvt @ xvtt\n",
    "head"
   ],
   "id": "3a72ec76cb34a99f",
   "outputs": [
    {
     "data": {
      "text/plain": [
       "tensor([[[[   5.,   17.,   29.],\n",
       "          [  17.,   61.,  105.],\n",
       "          [  29.,  105.,  181.]],\n",
       "\n",
       "         [[  25.,   53.,   81.],\n",
       "          [  53.,  113.,  173.],\n",
       "          [  81.,  173.,  265.]]],\n",
       "\n",
       "\n",
       "        [[[ 365.,  473.,  581.],\n",
       "          [ 473.,  613.,  753.],\n",
       "          [ 581.,  753.,  925.]],\n",
       "\n",
       "         [[ 481.,  605.,  729.],\n",
       "          [ 605.,  761.,  917.],\n",
       "          [ 729.,  917., 1105.]]]])"
      ]
     },
     "execution_count": 26,
     "metadata": {},
     "output_type": "execute_result"
    }
   ],
   "execution_count": 26
  },
  {
   "metadata": {
    "ExecuteTime": {
     "end_time": "2024-12-17T15:48:20.253703Z",
     "start_time": "2024-12-17T15:48:20.249530Z"
    }
   },
   "cell_type": "code",
   "source": "torch.softmax(head, dim=-1)",
   "id": "c5cba005513cbc66",
   "outputs": [
    {
     "data": {
      "text/plain": [
       "tensor([[[[3.7751e-11, 6.1442e-06, 9.9999e-01],\n",
       "          [6.0546e-39, 7.7811e-20, 1.0000e+00],\n",
       "          [0.0000e+00, 9.8542e-34, 1.0000e+00]],\n",
       "\n",
       "         [[4.7809e-25, 6.9144e-13, 1.0000e+00],\n",
       "          [0.0000e+00, 8.7565e-27, 1.0000e+00],\n",
       "          [0.0000e+00, 1.1089e-40, 1.0000e+00]]],\n",
       "\n",
       "\n",
       "        [[[0.0000e+00, 0.0000e+00, 1.0000e+00],\n",
       "          [0.0000e+00, 0.0000e+00, 1.0000e+00],\n",
       "          [0.0000e+00, 0.0000e+00, 1.0000e+00]],\n",
       "\n",
       "         [[0.0000e+00, 0.0000e+00, 1.0000e+00],\n",
       "          [0.0000e+00, 0.0000e+00, 1.0000e+00],\n",
       "          [0.0000e+00, 0.0000e+00, 1.0000e+00]]]])"
      ]
     },
     "execution_count": 30,
     "metadata": {},
     "output_type": "execute_result"
    }
   ],
   "execution_count": 30
  },
  {
   "metadata": {},
   "cell_type": "code",
   "outputs": [],
   "execution_count": null,
   "source": "",
   "id": "e0cdaf1c0f92fed1"
  }
 ],
 "metadata": {
  "kernelspec": {
   "display_name": "Python 3",
   "language": "python",
   "name": "python3"
  },
  "language_info": {
   "codemirror_mode": {
    "name": "ipython",
    "version": 2
   },
   "file_extension": ".py",
   "mimetype": "text/x-python",
   "name": "python",
   "nbconvert_exporter": "python",
   "pygments_lexer": "ipython2",
   "version": "2.7.6"
  }
 },
 "nbformat": 4,
 "nbformat_minor": 5
}
