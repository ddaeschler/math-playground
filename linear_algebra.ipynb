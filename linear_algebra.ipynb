{
 "cells": [
  {
   "cell_type": "code",
   "execution_count": 34,
   "metadata": {
    "collapsed": true,
    "ExecuteTime": {
     "end_time": "2023-07-17T16:51:44.888638Z",
     "start_time": "2023-07-17T16:51:44.707654Z"
    }
   },
   "outputs": [],
   "source": [
    "import numpy as np\n",
    "import matplotlib.pyplot as plt\n",
    "import seaborn as sns"
   ]
  },
  {
   "cell_type": "code",
   "execution_count": 3,
   "outputs": [],
   "source": [
    "matrix = np.array([[1, 2],\n",
    "                   [3, 4]])  # Example 2x2 matrix\n",
    "\n",
    "colors = ['r', 'g', 'b', 'y']  # Colors for each vector\n",
    "labels = ['Eigen 1', 'Eigen 2', 'Vector', 'Vector 4']\n",
    "\n",
    "eigenvalues, eigenvectors = np.linalg.eig(matrix)\n",
    "vector = np.array([1, 1])  # Example 1x2 vector\n",
    "vectors = np.concatenate((eigenvectors, [vector]))"
   ],
   "metadata": {
    "collapsed": false,
    "ExecuteTime": {
     "end_time": "2023-07-17T16:14:28.263695Z",
     "start_time": "2023-07-17T16:14:28.258626Z"
    }
   }
  },
  {
   "cell_type": "code",
   "execution_count": 4,
   "outputs": [
    {
     "name": "stdout",
     "output_type": "stream",
     "text": [
      "[[-0.82456484 -0.41597356]\n",
      " [ 0.56576746 -0.90937671]]\n",
      "[-0.37228132  5.37228132]\n"
     ]
    }
   ],
   "source": [
    "print(eigenvectors)\n",
    "print(eigenvalues)\n"
   ],
   "metadata": {
    "collapsed": false,
    "ExecuteTime": {
     "end_time": "2023-07-17T16:14:28.997975Z",
     "start_time": "2023-07-17T16:14:28.992975Z"
    }
   }
  },
  {
   "cell_type": "code",
   "execution_count": 5,
   "outputs": [],
   "source": [
    "result = np.dot(matrix, vector)"
   ],
   "metadata": {
    "collapsed": false,
    "ExecuteTime": {
     "end_time": "2023-07-17T16:14:29.709103Z",
     "start_time": "2023-07-17T16:14:29.703501Z"
    }
   }
  },
  {
   "cell_type": "code",
   "execution_count": 6,
   "outputs": [
    {
     "data": {
      "text/plain": "<Figure size 640x480 with 1 Axes>",
      "image/png": "[encoded data removed]"
     },
     "metadata": {},
     "output_type": "display_data"
    }
   ],
   "source": [
    "fig, ax = plt.subplots()\n",
    "ax.set_aspect('equal')\n",
    "\n",
    "# Plot each vector with a different color\n",
    "for i, vector in enumerate(vectors):\n",
    "    ax.quiver(0, 0, vector[0], vector[1], angles='xy', scale_units='xy', scale=1, color=colors[i])\n",
    "    ax.text(vector[0], vector[1], labels[i], ha='left', va='bottom')\n",
    "\n",
    "# Set the x and y axis limits\n",
    "ax.set_xlim([-3, 3])\n",
    "ax.set_ylim([-3, 3])\n",
    "\n",
    "# Set labels and title\n",
    "ax.set_xlabel('X-axis')\n",
    "ax.set_ylabel('Y-axis')\n",
    "ax.set_title('Vector from the Origin')\n",
    "\n",
    "# Show the plot\n",
    "plt.grid()\n",
    "plt.show()"
   ],
   "metadata": {
    "collapsed": false,
    "ExecuteTime": {
     "end_time": "2023-07-17T16:14:30.479181Z",
     "start_time": "2023-07-17T16:14:30.281552Z"
    }
   }
  },
  {
   "cell_type": "markdown",
   "source": [
    "## Understanding SVD. What does it really mean to multiply $A*A^{t}$"
   ],
   "metadata": {
    "collapsed": false
   }
  },
  {
   "cell_type": "code",
   "execution_count": 7,
   "outputs": [
    {
     "name": "stdout",
     "output_type": "stream",
     "text": [
      "[3.75 3.5  3.  ]\n",
      "[[ 1.25 -1.5   1.  ]\n",
      " [ 0.25 -1.5  -2.  ]\n",
      " [-2.75  1.5  -1.  ]\n",
      " [ 1.25  1.5   2.  ]]\n",
      "[[ 1.25  0.25 -2.75  1.25]\n",
      " [-1.5  -1.5   1.5   1.5 ]\n",
      " [ 1.   -2.   -1.    2.  ]]\n"
     ]
    }
   ],
   "source": [
    "# let's say we have user votes for different options and we want to\n",
    "# discover relations between the movies\n",
    "# say we have a scale of 1-5 for how much someone liked a movie, and a list of movies\n",
    "# star trek, indiana jones, and back to the future\n",
    "\n",
    "A = np.array([[5, 2, 4],\n",
    "              [4, 2, 1],\n",
    "              [1, 5, 2],\n",
    "              [5, 5, 5]])\n",
    "#\n",
    "# center the values\n",
    "#\n",
    "\n",
    "# compute the mean of each column. This results in a 1 x n vector\n",
    "mean_vector = np.mean(A, axis=0)\n",
    "print(mean_vector)\n",
    "\n",
    "# subtract the mean vector from each row of A.\n",
    "# numpy's broadcasting rules automatically subtract the mean from each column.\n",
    "A = A - mean_vector\n",
    "\n",
    "\n",
    "#\n",
    "# transpose and print\n",
    "#\n",
    "At = A.transpose()\n",
    "print(A)\n",
    "print(At)"
   ],
   "metadata": {
    "collapsed": false,
    "ExecuteTime": {
     "end_time": "2023-07-17T16:14:32.179708Z",
     "start_time": "2023-07-17T16:14:32.171340Z"
    }
   }
  },
  {
   "cell_type": "markdown",
   "source": [
    "Given A =\n",
    "[[a b]\n",
    "[c d]]\n",
    "\n",
    "Then A * A^t^\n",
    "is:\n",
    "[a^2^ + b^2^, ac + bd]\n",
    "[ca + db, c^2^ + d^2^]\n",
    "\n",
    "The resulting matrix obtained from multiplying a 2x2 matrix A by its transpose A^T provides several insights and information about the original matrix. Here are some interpretations of the elements in the resulting matrix:\n",
    "\n",
    "1. Diagonal Elements: The diagonal elements, [a^2^ + b^2^] and [c^2^ + d^2^], represent the sum of squares of the corresponding rows of the original matrix A. They give you the squared magnitudes or norms of the individual rows.\n",
    "\n",
    "2. Off-Diagonal Elements: The off-diagonal elements, [ac + bd] and [ca + db], represent the dot products between different rows of the original matrix A. They indicate the similarity or alignment between different rows of the matrix.\n",
    "\n",
    "3. Symmetry: The resulting matrix is symmetric because it is the result of multiplying a matrix by its transpose. This symmetry implies that the dot products between rows of the matrix are symmetric or that the alignment between rows is the same in both directions.\n",
    "\n",
    "4. Positive Semidefinite: The resulting matrix is positive semidefinite, which means its eigenvalues are non-negative. This property is a consequence of multiplying a matrix by its transpose.\n",
    "\n",
    "Overall, the resulting matrix provides information about the squared magnitudes of the individual rows of the original matrix, the dot products between different rows, the symmetry of the matrix, and its positive semidefinite nature. These properties can be relevant in various contexts, such as analyzing similarities, norms, or relationships between vectors represented by the rows of the matrix.\n",
    "\n",
    "The element C(i, j) in this covariance matrix is the covariance between the i-th variable and the j-th variable of your dataset\n",
    "\n",
    "If we instead take A^t^ * A, the matrix can be interpreted as a covariance matrix between variables (not observations) if the data is appropriately centered\n"
   ],
   "metadata": {
    "collapsed": false
   }
  },
  {
   "cell_type": "code",
   "execution_count": 8,
   "outputs": [
    {
     "data": {
      "text/plain": "array([[ 4.8125,  0.5625, -6.6875,  1.3125],\n       [ 0.5625,  6.3125, -0.9375, -5.9375],\n       [-6.6875, -0.9375, 10.8125, -3.1875],\n       [ 1.3125, -5.9375, -3.1875,  7.8125]])"
     },
     "execution_count": 8,
     "metadata": {},
     "output_type": "execute_result"
    }
   ],
   "source": [
    "# covariance between observations\n",
    "A @ At"
   ],
   "metadata": {
    "collapsed": false,
    "ExecuteTime": {
     "end_time": "2023-07-17T16:14:33.882854Z",
     "start_time": "2023-07-17T16:14:33.867794Z"
    }
   }
  },
  {
   "cell_type": "code",
   "execution_count": 9,
   "outputs": [
    {
     "data": {
      "text/plain": "array([[10.75, -4.5 ,  6.  ],\n       [-4.5 ,  9.  ,  3.  ],\n       [ 6.  ,  3.  , 10.  ]])"
     },
     "execution_count": 9,
     "metadata": {},
     "output_type": "execute_result"
    }
   ],
   "source": [
    "# covariance between variables/features (not scaled by number of variables)\n",
    "At @ A"
   ],
   "metadata": {
    "collapsed": false,
    "ExecuteTime": {
     "end_time": "2023-07-17T16:14:34.798871Z",
     "start_time": "2023-07-17T16:14:34.790835Z"
    }
   }
  },
  {
   "cell_type": "code",
   "execution_count": 10,
   "outputs": [
    {
     "data": {
      "text/plain": "array([[ 2.3125    ,  0.6875    , -3.0625    ,  0.0625    ],\n       [ 0.6875    ,  1.39583333, -1.6875    , -0.39583333],\n       [-3.0625    , -1.6875    ,  4.5625    ,  0.1875    ],\n       [ 0.0625    , -0.39583333,  0.1875    ,  0.14583333]])"
     },
     "execution_count": 10,
     "metadata": {},
     "output_type": "execute_result"
    }
   ],
   "source": [
    "# alternate method to compute covariance (not scaled by number of variables)\n",
    "np.cov(A)"
   ],
   "metadata": {
    "collapsed": false,
    "ExecuteTime": {
     "end_time": "2023-07-17T16:14:35.767277Z",
     "start_time": "2023-07-17T16:14:35.760541Z"
    }
   }
  },
  {
   "cell_type": "code",
   "execution_count": 11,
   "outputs": [
    {
     "data": {
      "text/plain": "array([[ 3.58333333, -1.5       ,  2.        ],\n       [-1.5       ,  3.        ,  1.        ],\n       [ 2.        ,  1.        ,  3.33333333]])"
     },
     "execution_count": 11,
     "metadata": {},
     "output_type": "execute_result"
    }
   ],
   "source": [
    "np.cov(At)"
   ],
   "metadata": {
    "collapsed": false,
    "ExecuteTime": {
     "end_time": "2023-07-17T16:14:36.651824Z",
     "start_time": "2023-07-17T16:14:36.648659Z"
    }
   }
  },
  {
   "cell_type": "code",
   "execution_count": 32,
   "outputs": [
    {
     "data": {
      "text/plain": "array([[ 3.58333333, -1.5       ,  2.        ],\n       [-1.5       ,  3.        ,  1.        ],\n       [ 2.        ,  1.        ,  3.33333333]])"
     },
     "execution_count": 32,
     "metadata": {},
     "output_type": "execute_result"
    }
   ],
   "source": [
    "# the results are different because the np.cov() function uses Bessel's correction,\n",
    "# dividing the sums by n-1. we do the same below\n",
    "\n",
    "n = A.shape[0]  # number of observations\n",
    "cov_matrix = (At @ A) / (n - 1)\n",
    "cov_matrix"
   ],
   "metadata": {
    "collapsed": false,
    "ExecuteTime": {
     "end_time": "2023-07-17T16:42:14.562477Z",
     "start_time": "2023-07-17T16:42:14.558134Z"
    }
   }
  },
  {
   "cell_type": "markdown",
   "source": [
    "How to interpret this covariance matrix:\n",
    "\n",
    "The covariance matrix shows the relationship between different features of your data. Positive covariance values indicate that the two features increase together, negative values mean that when one feature increases, the other decreases, and a covariance near zero indicates that the two features are not linearly correlated.\n",
    "\n",
    "How to use this covariance data:\n",
    "\n",
    "* Dimensionality Reduction: In techniques like Principal Component Analysis (PCA), the covariance matrix is used to reduce the dimensionality of the data while retaining the important features.\n",
    "* Machine Learning: Covariance matrices are used in various machine learning algorithms such as Linear Regression, Gaussian Mixture Models, and Kalman Filters.\n",
    "* Portfolio Theory: In finance, covariance matrices are used to understand the volatility of a portfolio of diverse assets.\n",
    "* Data Analysis: Covariance matrices can provide insights into the relationships between different features in your data.\n",
    "* Feature Selection: If two features have a high absolute covariance, they are highly correlated. This might mean you could use just one of them without losing much information, which is useful when you're trying to reduce the complexity of your model."
   ],
   "metadata": {
    "collapsed": false
   }
  },
  {
   "cell_type": "code",
   "execution_count": 35,
   "outputs": [
    {
     "data": {
      "text/plain": "<Figure size 640x480 with 2 Axes>",
      "image/png": "[encoded data removed]"
     },
     "metadata": {},
     "output_type": "display_data"
    }
   ],
   "source": [
    "# create a heatmap of the covariance matrix\n",
    "sns.heatmap(cov_matrix, annot=True,\n",
    "            xticklabels=[\"Star Trek\", \"Indiana Jones\", \"Back to the Future\"],\n",
    "            yticklabels=[\"Star Trek\", \"Indiana Jones\", \"Back to the Future\"])\n",
    "plt.title(\"Covariance matrix\")\n",
    "plt.show()"
   ],
   "metadata": {
    "collapsed": false,
    "ExecuteTime": {
     "end_time": "2023-07-17T16:54:57.974924Z",
     "start_time": "2023-07-17T16:54:57.849563Z"
    }
   }
  },
  {
   "cell_type": "markdown",
   "source": [
    "The above is difficult to interpret because it is on the scale of the variables. We can fix this by creating the correlation matrix which has a range of -1 -> 1. We do this by standardizing the features"
   ],
   "metadata": {
    "collapsed": false
   }
  },
  {
   "cell_type": "code",
   "execution_count": 41,
   "outputs": [],
   "source": [
    "corr_matrix = np.corrcoef(A, rowvar=False)"
   ],
   "metadata": {
    "collapsed": false,
    "ExecuteTime": {
     "end_time": "2023-07-17T17:15:10.934607Z",
     "start_time": "2023-07-17T17:15:10.931347Z"
    }
   }
  },
  {
   "cell_type": "code",
   "execution_count": 42,
   "outputs": [
    {
     "data": {
      "text/plain": "<Figure size 640x480 with 2 Axes>",
      "image/png": "[encoded data removed]"
     },
     "metadata": {},
     "output_type": "display_data"
    }
   ],
   "source": [
    "sns.heatmap(corr_matrix, annot=True,\n",
    "            xticklabels=[\"Star Trek\", \"Indiana Jones\", \"Back to the Future\"],\n",
    "            yticklabels=[\"Star Trek\", \"Indiana Jones\", \"Back to the Future\"])\n",
    "plt.title(\"Correlation matrix\")\n",
    "plt.show()"
   ],
   "metadata": {
    "collapsed": false,
    "ExecuteTime": {
     "end_time": "2023-07-17T17:15:11.505200Z",
     "start_time": "2023-07-17T17:15:11.437753Z"
    }
   }
  },
  {
   "cell_type": "markdown",
   "source": [
    "Correlation ranges from -1 -> 1.\n",
    "* -1 means perfect correlation in opposite directions (negative correlation)\n",
    "* +1 means perfect correlation in the same direction\n",
    "* 0 means no correlation\n",
    "\n",
    "Numbers in between indicate some level of correlation. As an example:\n",
    "\n",
    "* 0-0.3 or 0 to -0.3: Little to weak correlation\n",
    "* 0.3-0.7 or -0.3 to -0.7: Moderate correlation\n",
    "* 0.7-1 or -0.7 to -1: Strong correlation"
   ],
   "metadata": {
    "collapsed": false
   }
  },
  {
   "cell_type": "markdown",
   "source": [
    "### Now for SVD\n",
    "\n",
    "In the SVD of a matrix A = UΣVᵗ, U and V are both orthogonal matrices, but they are not transposes of each other.\n",
    "\n",
    "U is the eigendecomposition of A * Aᵗ sorted in descending order  --> These are the left singular vectors of A\n",
    "Vᵗ is the eigendecomposition of Aᵗ * A sorted in descending order  --> These are the right singular vectors of A\n",
    "Σ is the square root of the eigenvalues of either left or right singular values sorted in decending order\n"
   ],
   "metadata": {
    "collapsed": false
   }
  },
  {
   "cell_type": "code",
   "execution_count": null,
   "outputs": [],
   "source": [],
   "metadata": {
    "collapsed": false
   }
  }
 ],
 "metadata": {
  "kernelspec": {
   "display_name": "Python 3",
   "language": "python",
   "name": "python3"
  },
  "language_info": {
   "codemirror_mode": {
    "name": "ipython",
    "version": 2
   },
   "file_extension": ".py",
   "mimetype": "text/x-python",
   "name": "python",
   "nbconvert_exporter": "python",
   "pygments_lexer": "ipython2",
   "version": "2.7.6"
  }
 },
 "nbformat": 4,
 "nbformat_minor": 0
}
