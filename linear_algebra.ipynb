{
 "cells": [
  {
   "cell_type": "code",
   "metadata": {
    "collapsed": true,
    "ExecuteTime": {
     "end_time": "2025-08-02T01:57:04.691052Z",
     "start_time": "2025-08-02T01:57:04.689274Z"
    }
   },
   "source": [
    "import numpy as np\n",
    "import matplotlib.pyplot as plt\n",
    "import seaborn as sns"
   ],
   "outputs": [],
   "execution_count": 1
  },
  {
   "cell_type": "code",
   "source": [
    "matrix = np.array([[1, 2],\n",
    "                   [3, 4]])  # Example 2x2 matrix\n",
    "\n",
    "colors = ['r', 'g', 'b', 'y']  # Colors for each vector\n",
    "labels = ['Eigen 1', 'Eigen 2', 'Vector', 'Vector 4']\n",
    "\n",
    "eigenvalues, eigenvectors = np.linalg.eig(matrix)\n",
    "vector = np.array([1, 1])  # Example 1x2 vector\n",
    "vectors = np.concatenate((eigenvectors, [vector]))"
   ],
   "metadata": {
    "collapsed": false,
    "ExecuteTime": {
     "end_time": "2025-08-02T01:57:04.804614Z",
     "start_time": "2025-08-02T01:57:04.801028Z"
    }
   },
   "outputs": [],
   "execution_count": 2
  },
  {
   "cell_type": "code",
   "source": [
    "print(eigenvectors)\n",
    "print(eigenvalues)\n"
   ],
   "metadata": {
    "collapsed": false,
    "ExecuteTime": {
     "end_time": "2025-08-02T01:57:04.874575Z",
     "start_time": "2025-08-02T01:57:04.872944Z"
    }
   },
   "outputs": [
    {
     "name": "stdout",
     "output_type": "stream",
     "text": [
      "[[-0.82456484 -0.41597356]\n",
      " [ 0.56576746 -0.90937671]]\n",
      "[-0.37228132  5.37228132]\n"
     ]
    }
   ],
   "execution_count": 3
  },
  {
   "cell_type": "code",
   "source": [
    "result = np.dot(matrix, vector)"
   ],
   "metadata": {
    "collapsed": false,
    "ExecuteTime": {
     "end_time": "2025-08-02T01:57:05.072473Z",
     "start_time": "2025-08-02T01:57:05.070935Z"
    }
   },
   "outputs": [],
   "execution_count": 4
  },
  {
   "cell_type": "code",
   "source": [
    "fig, ax = plt.subplots()\n",
    "ax.set_aspect('equal')\n",
    "\n",
    "# Plot each vector with a different color\n",
    "for i, vector in enumerate(vectors):\n",
    "    ax.quiver(0, 0, vector[0], vector[1], angles='xy', scale_units='xy', scale=1, color=colors[i])\n",
    "    ax.text(vector[0], vector[1], labels[i], ha='left', va='bottom')\n",
    "\n",
    "# Set the x and y axis limits\n",
    "ax.set_xlim([-3, 3])\n",
    "ax.set_ylim([-3, 3])\n",
    "\n",
    "# Set labels and title\n",
    "ax.set_xlabel('X-axis')\n",
    "ax.set_ylabel('Y-axis')\n",
    "ax.set_title('Vector from the Origin')\n",
    "\n",
    "# Show the plot\n",
    "plt.grid()\n",
    "plt.show()"
   ],
   "metadata": {
    "collapsed": false,
    "ExecuteTime": {
     "end_time": "2025-08-02T01:57:05.209508Z",
     "start_time": "2025-08-02T01:57:05.138776Z"
    }
   },
   "outputs": [
    {
     "data": {
      "text/plain": [
       "<Figure size 640x480 with 1 Axes>"
      ],
      "image/png": "[encoded data removed]"
     },
     "metadata": {},
     "output_type": "display_data"
    }
   ],
   "execution_count": 5
  },
  {
   "cell_type": "markdown",
   "source": [
    "## Understanding SVD. What does it really mean to multiply $A*A^{t}$"
   ],
   "metadata": {
    "collapsed": false
   }
  },
  {
   "cell_type": "code",
   "source": [
    "# let's say we have user votes for different options and we want to\n",
    "# discover relations between the movies\n",
    "# say we have a scale of 1-5 for how much someone liked a movie, and a list of movies\n",
    "# star trek, indiana jones, and back to the future\n",
    "\n",
    "A = np.array([[5, 2, 4],\n",
    "              [4, 2, 1],\n",
    "              [1, 5, 2],\n",
    "              [5, 5, 5]])\n",
    "#\n",
    "# center the values\n",
    "#\n",
    "\n",
    "# compute the mean of each column. This results in a 1 x n vector\n",
    "mean_vector = np.mean(A, axis=0)\n",
    "print(mean_vector)\n",
    "\n",
    "# subtract the mean vector from each row of A.\n",
    "# numpy's broadcasting rules automatically subtract the mean from each column.\n",
    "A = A - mean_vector\n",
    "\n",
    "\n",
    "#\n",
    "# transpose and print\n",
    "#\n",
    "At = A.transpose()\n",
    "print(A)\n",
    "print(At)"
   ],
   "metadata": {
    "collapsed": false,
    "ExecuteTime": {
     "end_time": "2025-08-02T01:57:05.490206Z",
     "start_time": "2025-08-02T01:57:05.487644Z"
    }
   },
   "outputs": [
    {
     "name": "stdout",
     "output_type": "stream",
     "text": [
      "[3.75 3.5  3.  ]\n",
      "[[ 1.25 -1.5   1.  ]\n",
      " [ 0.25 -1.5  -2.  ]\n",
      " [-2.75  1.5  -1.  ]\n",
      " [ 1.25  1.5   2.  ]]\n",
      "[[ 1.25  0.25 -2.75  1.25]\n",
      " [-1.5  -1.5   1.5   1.5 ]\n",
      " [ 1.   -2.   -1.    2.  ]]\n"
     ]
    }
   ],
   "execution_count": 6
  },
  {
   "cell_type": "markdown",
   "source": [
    "Given A =\n",
    "[[a b]\n",
    "[c d]]\n",
    "\n",
    "Then A * A^t^\n",
    "is:\n",
    "[a^2^ + b^2^, ac + bd]\n",
    "[ca + db, c^2^ + d^2^]\n",
    "\n",
    "The resulting matrix obtained from multiplying a 2x2 matrix A by its transpose A^T provides several insights and information about the original matrix. Here are some interpretations of the elements in the resulting matrix:\n",
    "\n",
    "1. Diagonal Elements: The diagonal elements, [a^2^ + b^2^] and [c^2^ + d^2^], represent the sum of squares of the corresponding rows of the original matrix A. They give you the squared magnitudes or norms of the individual rows.\n",
    "\n",
    "2. Off-Diagonal Elements: The off-diagonal elements, [ac + bd] and [ca + db], represent the dot products between different rows of the original matrix A. They indicate the similarity or alignment between different rows of the matrix.\n",
    "\n",
    "3. Symmetry: The resulting matrix is symmetric because it is the result of multiplying a matrix by its transpose. This symmetry implies that the dot products between rows of the matrix are symmetric or that the alignment between rows is the same in both directions.\n",
    "\n",
    "4. Positive Semidefinite: The resulting matrix is positive semidefinite, which means its eigenvalues are non-negative. This property is a consequence of multiplying a matrix by its transpose.\n",
    "\n",
    "Overall, the resulting matrix provides information about the squared magnitudes of the individual rows of the original matrix, the dot products between different rows, the symmetry of the matrix, and its positive semidefinite nature. These properties can be relevant in various contexts, such as analyzing similarities, norms, or relationships between vectors represented by the rows of the matrix.\n",
    "\n",
    "The element C(i, j) in this covariance matrix is the covariance between the i-th variable and the j-th variable of your dataset\n",
    "\n",
    "If we instead take A^t^ * A, the matrix can be interpreted as a covariance matrix between variables (not observations) if the data is appropriately centered\n"
   ],
   "metadata": {
    "collapsed": false
   }
  },
  {
   "cell_type": "code",
   "source": [
    "# covariance between observations\n",
    "A @ At"
   ],
   "metadata": {
    "collapsed": false,
    "ExecuteTime": {
     "end_time": "2025-08-02T01:57:05.556829Z",
     "start_time": "2025-08-02T01:57:05.554660Z"
    }
   },
   "outputs": [
    {
     "data": {
      "text/plain": [
       "array([[ 4.8125,  0.5625, -6.6875,  1.3125],\n",
       "       [ 0.5625,  6.3125, -0.9375, -5.9375],\n",
       "       [-6.6875, -0.9375, 10.8125, -3.1875],\n",
       "       [ 1.3125, -5.9375, -3.1875,  7.8125]])"
      ]
     },
     "execution_count": 7,
     "metadata": {},
     "output_type": "execute_result"
    }
   ],
   "execution_count": 7
  },
  {
   "cell_type": "code",
   "source": [
    "# covariance between variables/features (not scaled by number of variables)\n",
    "At @ A"
   ],
   "metadata": {
    "collapsed": false,
    "ExecuteTime": {
     "end_time": "2025-08-02T01:57:05.750412Z",
     "start_time": "2025-08-02T01:57:05.747656Z"
    }
   },
   "outputs": [
    {
     "data": {
      "text/plain": [
       "array([[10.75, -4.5 ,  6.  ],\n",
       "       [-4.5 ,  9.  ,  3.  ],\n",
       "       [ 6.  ,  3.  , 10.  ]])"
      ]
     },
     "execution_count": 8,
     "metadata": {},
     "output_type": "execute_result"
    }
   ],
   "execution_count": 8
  },
  {
   "cell_type": "code",
   "source": [
    "# alternate method to compute covariance (not scaled by number of variables)\n",
    "np.cov(A)"
   ],
   "metadata": {
    "collapsed": false,
    "ExecuteTime": {
     "end_time": "2025-08-02T01:57:06.091428Z",
     "start_time": "2025-08-02T01:57:06.089125Z"
    }
   },
   "outputs": [
    {
     "data": {
      "text/plain": [
       "array([[ 2.3125    ,  0.6875    , -3.0625    ,  0.0625    ],\n",
       "       [ 0.6875    ,  1.39583333, -1.6875    , -0.39583333],\n",
       "       [-3.0625    , -1.6875    ,  4.5625    ,  0.1875    ],\n",
       "       [ 0.0625    , -0.39583333,  0.1875    ,  0.14583333]])"
      ]
     },
     "execution_count": 9,
     "metadata": {},
     "output_type": "execute_result"
    }
   ],
   "execution_count": 9
  },
  {
   "cell_type": "code",
   "source": [
    "# np.cov() assumes that each row represents a variable, with observations in the columns.\n",
    "# so we need to transpose if our observations are in the rows and variables in the columns\n",
    "np.cov(At)"
   ],
   "metadata": {
    "collapsed": false,
    "ExecuteTime": {
     "end_time": "2025-08-02T01:57:06.238040Z",
     "start_time": "2025-08-02T01:57:06.235607Z"
    }
   },
   "outputs": [
    {
     "data": {
      "text/plain": [
       "array([[ 3.58333333, -1.5       ,  2.        ],\n",
       "       [-1.5       ,  3.        ,  1.        ],\n",
       "       [ 2.        ,  1.        ,  3.33333333]])"
      ]
     },
     "execution_count": 10,
     "metadata": {},
     "output_type": "execute_result"
    }
   ],
   "execution_count": 10
  },
  {
   "cell_type": "code",
   "source": [
    "# the results are different because the np.cov() function uses Bessel's correction,\n",
    "# dividing the sums by n-1. we do the same below\n",
    "\n",
    "n = A.shape[0]  # number of observations\n",
    "cov_matrix = (At @ A) / (n - 1)\n",
    "cov_matrix"
   ],
   "metadata": {
    "collapsed": false,
    "ExecuteTime": {
     "end_time": "2025-08-02T01:57:06.397241Z",
     "start_time": "2025-08-02T01:57:06.395004Z"
    }
   },
   "outputs": [
    {
     "data": {
      "text/plain": [
       "array([[ 3.58333333, -1.5       ,  2.        ],\n",
       "       [-1.5       ,  3.        ,  1.        ],\n",
       "       [ 2.        ,  1.        ,  3.33333333]])"
      ]
     },
     "execution_count": 11,
     "metadata": {},
     "output_type": "execute_result"
    }
   ],
   "execution_count": 11
  },
  {
   "cell_type": "markdown",
   "source": [
    "How to interpret this covariance matrix:\n",
    "\n",
    "The covariance matrix shows the relationship between different features of your data. Positive covariance values indicate that the two features increase together, negative values mean that when one feature increases, the other decreases, and a covariance near zero indicates that the two features are not linearly correlated.\n",
    "\n",
    "How to use this covariance data:\n",
    "\n",
    "* Dimensionality Reduction: In techniques like Principal Component Analysis (PCA), the covariance matrix is used to reduce the dimensionality of the data while retaining the important features.\n",
    "* Machine Learning: Covariance matrices are used in various machine learning algorithms such as Linear Regression, Gaussian Mixture Models, and Kalman Filters.\n",
    "* Portfolio Theory: In finance, covariance matrices are used to understand the volatility of a portfolio of diverse assets.\n",
    "* Data Analysis: Covariance matrices can provide insights into the relationships between different features in your data.\n",
    "* Feature Selection: If two features have a high absolute covariance, they are highly correlated. This might mean you could use just one of them without losing much information, which is useful when you're trying to reduce the complexity of your model."
   ],
   "metadata": {
    "collapsed": false
   }
  },
  {
   "cell_type": "code",
   "source": [
    "# create a heatmap of the covariance matrix\n",
    "sns.heatmap(cov_matrix, annot=True,\n",
    "            xticklabels=[\"Star Trek\", \"Indiana Jones\", \"Back to the Future\"],\n",
    "            yticklabels=[\"Star Trek\", \"Indiana Jones\", \"Back to the Future\"])\n",
    "plt.title(\"Covariance matrix\")\n",
    "plt.show()"
   ],
   "metadata": {
    "collapsed": false,
    "ExecuteTime": {
     "end_time": "2025-08-02T01:57:06.606314Z",
     "start_time": "2025-08-02T01:57:06.546774Z"
    }
   },
   "outputs": [
    {
     "data": {
      "text/plain": [
       "<Figure size 640x480 with 2 Axes>"
      ],
      "image/png": "[encoded data removed]"
     },
     "metadata": {},
     "output_type": "display_data"
    }
   ],
   "execution_count": 12
  },
  {
   "cell_type": "markdown",
   "source": [
    "The above is difficult to interpret because it is on the scale of the variables. We can fix this by creating the correlation matrix which has a range of -1 -> 1. We do this by standardizing the features"
   ],
   "metadata": {
    "collapsed": false
   }
  },
  {
   "cell_type": "code",
   "source": [
    "corr_matrix = np.corrcoef(A, rowvar=False)"
   ],
   "metadata": {
    "collapsed": false,
    "ExecuteTime": {
     "end_time": "2025-08-02T01:57:06.691123Z",
     "start_time": "2025-08-02T01:57:06.689626Z"
    }
   },
   "outputs": [],
   "execution_count": 13
  },
  {
   "cell_type": "code",
   "source": [
    "sns.heatmap(corr_matrix, annot=True,\n",
    "            xticklabels=[\"Star Trek\", \"Indiana Jones\", \"Back to the Future\"],\n",
    "            yticklabels=[\"Star Trek\", \"Indiana Jones\", \"Back to the Future\"])\n",
    "plt.title(\"Correlation matrix\")\n",
    "plt.show()"
   ],
   "metadata": {
    "collapsed": false,
    "ExecuteTime": {
     "end_time": "2025-08-02T01:57:07.029787Z",
     "start_time": "2025-08-02T01:57:06.946957Z"
    }
   },
   "outputs": [
    {
     "data": {
      "text/plain": [
       "<Figure size 640x480 with 2 Axes>"
      ],
      "image/png": "[encoded data removed]"
     },
     "metadata": {},
     "output_type": "display_data"
    }
   ],
   "execution_count": 14
  },
  {
   "cell_type": "markdown",
   "source": [
    "Correlation ranges from -1 -> 1.\n",
    "* -1 means perfect correlation in opposite directions (negative correlation)\n",
    "* +1 means perfect correlation in the same direction\n",
    "* 0 means no correlation\n",
    "\n",
    "Numbers in between indicate some level of correlation. As an example:\n",
    "\n",
    "* 0-0.3 or 0 to -0.3: Little to weak correlation\n",
    "* 0.3-0.7 or -0.3 to -0.7: Moderate correlation\n",
    "* 0.7-1 or -0.7 to -1: Strong correlation"
   ],
   "metadata": {
    "collapsed": false
   }
  },
  {
   "cell_type": "markdown",
   "source": [
    "### Now for SVD\n",
    "\n",
    "In the SVD of a matrix A = UΣVᵗ, U and V are both orthogonal matrices, but they are not transposes of each other.\n",
    "\n",
    "U is the eigendecomposition of A * Aᵗ sorted in descending order  --> These are the left singular vectors of A\n",
    "Vᵗ is the eigendecomposition of Aᵗ * A sorted in descending order  --> These are the right singular vectors of A\n",
    "Σ is the square root of the eigenvalues of either left or right singular vectors sorted in decending order. These are the singular values\n",
    "\n",
    "Common uses for SVD:\n",
    "\n",
    "* Matrix Factorization: The SVD factorizes a matrix A into three separate matrices: U, Σ, and Vᵀ. This factorization can be used to approximate or reconstruct the original matrix A. By selecting a subset of singular values and their associated singular vectors, you can represent A with reduced dimensions, effectively compressing the data.\n",
    "* Rank Determination: The SVD provides information about the rank of a matrix. The number of non-zero singular values indicates the rank, and any zero singular values imply linear dependence among the columns or rows of the matrix. This property can be useful for feature selection, dimensionality reduction, and identifying the intrinsic structure of the data.\n",
    "* Low-Rank Approximation: By retaining only the largest singular values and their associated singular vectors, you can obtain a low-rank approximation of the original matrix A. This approximation can be useful for denoising data, reducing noise or outliers, and extracting dominant patterns or features.\n",
    "* Data Compression and Reconstruction: The SVD allows you to compress data by representing it with a reduced number of singular values and their corresponding singular vectors. You can then reconstruct the original data from this compressed representation. This technique is particularly valuable in applications where storage or computational resources are limited.\n",
    "* Collaborative Filtering and Recommendation Systems: The SVD has been widely used in recommender systems to analyze user-item matrices. By decomposing the matrix into user and item latent factors, the SVD-based models can make personalized recommendations based on patterns and similarities among users and items.\n",
    "* Principal Component Analysis (PCA): PCA is a technique that utilizes the SVD to transform a dataset into a new coordinate system, where the transformed variables (principal components) capture the maximum variance in the data. PCA is useful for data visualization, dimensionality reduction, and feature extraction.\n",
    "* Data Cleaning and Outlier Detection: The SVD can help identify and handle outliers in data. By examining the contribution of singular values and the associated singular vectors, anomalies or outliers can be identified based on their significant deviation from the normal patterns in the data."
   ],
   "metadata": {
    "collapsed": false
   }
  },
  {
   "cell_type": "code",
   "source": [
    "# Compute SVD\n",
    "U, s, Vh = np.linalg.svd(A)\n",
    "\n",
    "print(\"Left singular vectors (U):\")\n",
    "print(U)\n",
    "print(\"Singular values (s):\")\n",
    "print(s)\n",
    "print(\"Right singular vectors (Vh):\")\n",
    "print(Vh)"
   ],
   "metadata": {
    "collapsed": false,
    "ExecuteTime": {
     "end_time": "2025-08-02T01:57:07.100717Z",
     "start_time": "2025-08-02T01:57:07.098429Z"
    }
   },
   "outputs": [
    {
     "name": "stdout",
     "output_type": "stream",
     "text": [
      "Left singular vectors (U):\n",
      "[[ 0.46331447 -0.25857901  0.6844535   0.5       ]\n",
      " [-0.16393032 -0.67966586 -0.51105887  0.5       ]\n",
      " [-0.74704085  0.34454414  0.27059065  0.5       ]\n",
      " [ 0.4476567   0.59370073 -0.44398528  0.5       ]]\n",
      "Singular values (s):\n",
      "[4.08220991 3.49117    0.94725616]\n",
      "Right singular vectors (Vh):\n",
      "[[ 0.77215376 -0.22001624  0.59613038]\n",
      " [-0.20007926  0.80624392  0.55672168]\n",
      " [-0.60311431 -0.54914806  0.57852359]]\n"
     ]
    }
   ],
   "execution_count": 15
  },
  {
   "cell_type": "markdown",
   "source": [
    "The left singular vectors matrix, U, obtained from the singular value decomposition (SVD) of matrix A, is related to the eigendecomposition of the matrix A * Aᵀ. While U and Vᵀ have similarities, they provide slightly different insights and serve distinct purposes:\n",
    "\n",
    "* U: The columns of U are the eigenvectors of the matrix A * Aᵀ. These eigenvectors represent the principal directions in the row space of A and capture the relationships and patterns among the rows of A.\n",
    "* Vᵀ: The columns of Vᵀ are the eigenvectors of the transposed covariance matrix Aᵀ * A. These eigenvectors capture the principal directions of variation in the column space of A, representing the relationships and patterns among the columns of A.\n",
    "Differences between U and Vᵀ:\n",
    "\n",
    "* Dimensions: U is an m × m matrix, where m is the number of rows in A. Vᵀ is an n × n matrix, where n is the number of columns in A. The dimensions of U and Vᵀ depend on the shape of the original matrix A.\n",
    "* Data Perspective: U captures relationships and patterns from the row perspective, providing information about the similarities or dependencies among the observations in the dataset. Vᵀ, on the other hand, captures relationships and patterns from the column perspective, representing the associations and dependencies among the features or variables.\n",
    "* Dimension Reduction: Both U and Vᵀ can be used for dimensionality reduction, but they achieve it from different perspectives. U can be used to project the data onto a reduced-dimensional space defined by the most significant left singular vectors. Vᵀ can be used similarly by selecting the most significant right singular vectors.\n",
    "* Reconstruction: U and Vᵀ, combined with the singular values in Σ, can reconstruct the original matrix A. By using a subset of the most important singular vectors and their associated singular values, you can approximate the original matrix using a lower-dimensional representation.\n",
    "\n",
    "In summary, while U and Vᵀ from the SVD share some similarities, they represent eigendecompositions related to different matrices: U for A * Aᵀ and Vᵀ for Aᵀ * A. They provide insights from different perspectives, capturing relationships and patterns either from the row or column space of A. Both U and Vᵀ are valuable for dimensionality reduction, reconstruction, and understanding the underlying structure of the data."
   ],
   "metadata": {
    "collapsed": false
   }
  },
  {
   "cell_type": "markdown",
   "source": [
    "* Row Space: Each row in your matrix represents a user's preferences. When you calculate the row space, you're looking at the possible combinations of these preferences. By grouping together users with similar preference vectors in this space, you can identify users who have similar tastes in music. This is useful for user-based collaborative filtering, where you might recommend songs to a user that other users with similar tastes have enjoyed.\n",
    "\n",
    "* Column Space: Each column in your matrix represents a song's ratings. When you calculate the column space, you're considering the possible combinations of these ratings. Grouping together songs with similar rating vectors in this space allows you to identify songs that are liked (or disliked) by similar groups of people. This could be used in item-based collaborative filtering, where you recommend songs to a user that are similar to ones they've already rated highly."
   ],
   "metadata": {
    "collapsed": false
   }
  },
  {
   "cell_type": "markdown",
   "source": [
    "In the context of music ratings:\n",
    "\n",
    "* U: Can help to group similar users based on their latent features. These features won't necessarily be interpretable, but they might capture aspects like a preference for a certain genre, era, etc.\n",
    "* V^T: Can help to group similar songs based on their latent features. Again, these features might capture aspects like being from the same genre, having a similar mood, etc.\n",
    "* Σ: Provides information about the importance of each latent feature. Features with larger singular values contribute more significantly to capturing the structure of the original matrix. You can use this to reduce the dimensionality of your data (by ignoring features with small singular values), which can make your computations more efficient and may help to avoid overfitting.\n",
    "\n",
    "After applying SVD, you can estimate a user's rating for a song that they haven't rated yet by multiplying the user's feature vector (from U) by the song's feature vector (from V^T). This can help you to predict how much a user might like a song they haven't listened to yet, which can be useful for making recommendations.\n",
    "\n",
    "One thing to note is that classical SVD assumes that all missing values are zero, which might not be a good assumption for a rating matrix, as missing values typically mean that a user hasn't rated a song yet, not that they rated it zero. There are variations of SVD (like Funk SVD or SVD++) designed to handle this kind of scenario more appropriately, and these methods are often used in recommendation systems."
   ],
   "metadata": {
    "collapsed": false
   }
  },
  {
   "cell_type": "code",
   "source": [
    "# convolution\n",
    "clap_signal = [1, 0, 0, 0, 0]\n",
    "echo_response = [0.8, 0.5, 0.3]\n",
    "np.convolve(clap_signal, echo_response)"
   ],
   "metadata": {
    "collapsed": false,
    "ExecuteTime": {
     "end_time": "2025-08-02T01:57:07.193114Z",
     "start_time": "2025-08-02T01:57:07.190989Z"
    }
   },
   "outputs": [
    {
     "data": {
      "text/plain": [
       "array([0.8, 0.5, 0.3, 0. , 0. , 0. , 0. ])"
      ]
     },
     "execution_count": 16,
     "metadata": {},
     "output_type": "execute_result"
    }
   ],
   "execution_count": 16
  },
  {
   "cell_type": "code",
   "source": [
    "basis = np.array([[2, 0],\n",
    "                  [0, 2]])\n",
    "basis"
   ],
   "metadata": {
    "collapsed": false,
    "ExecuteTime": {
     "end_time": "2025-08-02T02:06:22.144647Z",
     "start_time": "2025-08-02T02:06:22.142062Z"
    }
   },
   "outputs": [
    {
     "data": {
      "text/plain": [
       "array([[2, 0],\n",
       "       [0, 2]])"
      ]
     },
     "execution_count": 31,
     "metadata": {},
     "output_type": "execute_result"
    }
   ],
   "execution_count": 31
  },
  {
   "metadata": {
    "ExecuteTime": {
     "end_time": "2025-08-02T02:06:22.796908Z",
     "start_time": "2025-08-02T02:06:22.794345Z"
    }
   },
   "cell_type": "code",
   "source": [
    "v = [2, 2]\n",
    "b = basis @ v\n",
    "b"
   ],
   "outputs": [
    {
     "data": {
      "text/plain": [
       "array([4, 4])"
      ]
     },
     "execution_count": 32,
     "metadata": {},
     "output_type": "execute_result"
    }
   ],
   "execution_count": 32
  },
  {
   "metadata": {
    "ExecuteTime": {
     "end_time": "2025-08-02T02:07:31.039941Z",
     "start_time": "2025-08-02T02:07:31.037202Z"
    }
   },
   "cell_type": "code",
   "source": [
    "inv = np.linalg.inv(basis)\n",
    "inv"
   ],
   "outputs": [
    {
     "data": {
      "text/plain": [
       "array([[0.5, 0. ],\n",
       "       [0. , 0.5]])"
      ]
     },
     "execution_count": 36,
     "metadata": {},
     "output_type": "execute_result"
    }
   ],
   "execution_count": 36
  },
  {
   "metadata": {
    "ExecuteTime": {
     "end_time": "2025-08-02T02:07:41.080324Z",
     "start_time": "2025-08-02T02:07:41.077990Z"
    }
   },
   "cell_type": "code",
   "source": "inv @ b",
   "outputs": [
    {
     "data": {
      "text/plain": [
       "array([2., 2.])"
      ]
     },
     "execution_count": 37,
     "metadata": {},
     "output_type": "execute_result"
    }
   ],
   "execution_count": 37
  },
  {
   "metadata": {},
   "cell_type": "code",
   "outputs": [],
   "execution_count": null,
   "source": ""
  }
 ],
 "metadata": {
  "kernelspec": {
   "display_name": "Python 3",
   "language": "python",
   "name": "python3"
  },
  "language_info": {
   "codemirror_mode": {
    "name": "ipython",
    "version": 2
   },
   "file_extension": ".py",
   "mimetype": "text/x-python",
   "name": "python",
   "nbconvert_exporter": "python",
   "pygments_lexer": "ipython2",
   "version": "2.7.6"
  }
 },
 "nbformat": 4,
 "nbformat_minor": 0
}
