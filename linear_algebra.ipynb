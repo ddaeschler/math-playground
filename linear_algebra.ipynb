{
 "cells": [
  {
   "cell_type": "code",
   "execution_count": 1,
   "metadata": {
    "collapsed": true,
    "ExecuteTime": {
     "end_time": "2023-07-18T14:57:05.952348Z",
     "start_time": "2023-07-18T14:57:05.950191Z"
    }
   },
   "outputs": [],
   "source": [
    "import numpy as np\n",
    "import matplotlib.pyplot as plt\n",
    "import seaborn as sns"
   ]
  },
  {
   "cell_type": "code",
   "execution_count": 2,
   "outputs": [],
   "source": [
    "matrix = np.array([[1, 2],\n",
    "                   [3, 4]])  # Example 2x2 matrix\n",
    "\n",
    "colors = ['r', 'g', 'b', 'y']  # Colors for each vector\n",
    "labels = ['Eigen 1', 'Eigen 2', 'Vector', 'Vector 4']\n",
    "\n",
    "eigenvalues, eigenvectors = np.linalg.eig(matrix)\n",
    "vector = np.array([1, 1])  # Example 1x2 vector\n",
    "vectors = np.concatenate((eigenvectors, [vector]))"
   ],
   "metadata": {
    "collapsed": false,
    "ExecuteTime": {
     "end_time": "2023-07-18T14:57:05.956556Z",
     "start_time": "2023-07-18T14:57:05.954851Z"
    }
   }
  },
  {
   "cell_type": "code",
   "execution_count": 3,
   "outputs": [
    {
     "name": "stdout",
     "output_type": "stream",
     "text": [
      "[[-0.82456484 -0.41597356]\n",
      " [ 0.56576746 -0.90937671]]\n",
      "[-0.37228132  5.37228132]\n"
     ]
    }
   ],
   "source": [
    "print(eigenvectors)\n",
    "print(eigenvalues)\n"
   ],
   "metadata": {
    "collapsed": false,
    "ExecuteTime": {
     "end_time": "2023-07-18T14:57:05.961069Z",
     "start_time": "2023-07-18T14:57:05.957581Z"
    }
   }
  },
  {
   "cell_type": "code",
   "execution_count": 4,
   "outputs": [],
   "source": [
    "result = np.dot(matrix, vector)"
   ],
   "metadata": {
    "collapsed": false,
    "ExecuteTime": {
     "end_time": "2023-07-18T14:57:05.963096Z",
     "start_time": "2023-07-18T14:57:05.960796Z"
    }
   }
  },
  {
   "cell_type": "code",
   "execution_count": 5,
   "outputs": [
    {
     "data": {
      "text/plain": "<Figure size 640x480 with 1 Axes>",
      "image/png": "[encoded data removed]"
     },
     "metadata": {},
     "output_type": "display_data"
    }
   ],
   "source": [
    "fig, ax = plt.subplots()\n",
    "ax.set_aspect('equal')\n",
    "\n",
    "# Plot each vector with a different color\n",
    "for i, vector in enumerate(vectors):\n",
    "    ax.quiver(0, 0, vector[0], vector[1], angles='xy', scale_units='xy', scale=1, color=colors[i])\n",
    "    ax.text(vector[0], vector[1], labels[i], ha='left', va='bottom')\n",
    "\n",
    "# Set the x and y axis limits\n",
    "ax.set_xlim([-3, 3])\n",
    "ax.set_ylim([-3, 3])\n",
    "\n",
    "# Set labels and title\n",
    "ax.set_xlabel('X-axis')\n",
    "ax.set_ylabel('Y-axis')\n",
    "ax.set_title('Vector from the Origin')\n",
    "\n",
    "# Show the plot\n",
    "plt.grid()\n",
    "plt.show()"
   ],
   "metadata": {
    "collapsed": false,
    "ExecuteTime": {
     "end_time": "2023-07-18T14:57:06.095207Z",
     "start_time": "2023-07-18T14:57:05.964574Z"
    }
   }
  },
  {
   "cell_type": "markdown",
   "source": [
    "## Understanding SVD. What does it really mean to multiply $A*A^{t}$"
   ],
   "metadata": {
    "collapsed": false
   }
  },
  {
   "cell_type": "code",
   "execution_count": 6,
   "outputs": [
    {
     "name": "stdout",
     "output_type": "stream",
     "text": [
      "[3.75 3.5  3.  ]\n",
      "[[ 1.25 -1.5   1.  ]\n",
      " [ 0.25 -1.5  -2.  ]\n",
      " [-2.75  1.5  -1.  ]\n",
      " [ 1.25  1.5   2.  ]]\n",
      "[[ 1.25  0.25 -2.75  1.25]\n",
      " [-1.5  -1.5   1.5   1.5 ]\n",
      " [ 1.   -2.   -1.    2.  ]]\n"
     ]
    }
   ],
   "source": [
    "# let's say we have user votes for different options and we want to\n",
    "# discover relations between the movies\n",
    "# say we have a scale of 1-5 for how much someone liked a movie, and a list of movies\n",
    "# star trek, indiana jones, and back to the future\n",
    "\n",
    "A = np.array([[5, 2, 4],\n",
    "              [4, 2, 1],\n",
    "              [1, 5, 2],\n",
    "              [5, 5, 5]])\n",
    "#\n",
    "# center the values\n",
    "#\n",
    "\n",
    "# compute the mean of each column. This results in a 1 x n vector\n",
    "mean_vector = np.mean(A, axis=0)\n",
    "print(mean_vector)\n",
    "\n",
    "# subtract the mean vector from each row of A.\n",
    "# numpy's broadcasting rules automatically subtract the mean from each column.\n",
    "A = A - mean_vector\n",
    "\n",
    "\n",
    "#\n",
    "# transpose and print\n",
    "#\n",
    "At = A.transpose()\n",
    "print(A)\n",
    "print(At)"
   ],
   "metadata": {
    "collapsed": false,
    "ExecuteTime": {
     "end_time": "2023-07-18T14:57:06.098414Z",
     "start_time": "2023-07-18T14:57:06.095420Z"
    }
   }
  },
  {
   "cell_type": "markdown",
   "source": [
    "Given A =\n",
    "[[a b]\n",
    "[c d]]\n",
    "\n",
    "Then A * A^t^\n",
    "is:\n",
    "[a^2^ + b^2^, ac + bd]\n",
    "[ca + db, c^2^ + d^2^]\n",
    "\n",
    "The resulting matrix obtained from multiplying a 2x2 matrix A by its transpose A^T provides several insights and information about the original matrix. Here are some interpretations of the elements in the resulting matrix:\n",
    "\n",
    "1. Diagonal Elements: The diagonal elements, [a^2^ + b^2^] and [c^2^ + d^2^], represent the sum of squares of the corresponding rows of the original matrix A. They give you the squared magnitudes or norms of the individual rows.\n",
    "\n",
    "2. Off-Diagonal Elements: The off-diagonal elements, [ac + bd] and [ca + db], represent the dot products between different rows of the original matrix A. They indicate the similarity or alignment between different rows of the matrix.\n",
    "\n",
    "3. Symmetry: The resulting matrix is symmetric because it is the result of multiplying a matrix by its transpose. This symmetry implies that the dot products between rows of the matrix are symmetric or that the alignment between rows is the same in both directions.\n",
    "\n",
    "4. Positive Semidefinite: The resulting matrix is positive semidefinite, which means its eigenvalues are non-negative. This property is a consequence of multiplying a matrix by its transpose.\n",
    "\n",
    "Overall, the resulting matrix provides information about the squared magnitudes of the individual rows of the original matrix, the dot products between different rows, the symmetry of the matrix, and its positive semidefinite nature. These properties can be relevant in various contexts, such as analyzing similarities, norms, or relationships between vectors represented by the rows of the matrix.\n",
    "\n",
    "The element C(i, j) in this covariance matrix is the covariance between the i-th variable and the j-th variable of your dataset\n",
    "\n",
    "If we instead take A^t^ * A, the matrix can be interpreted as a covariance matrix between variables (not observations) if the data is appropriately centered\n"
   ],
   "metadata": {
    "collapsed": false
   }
  },
  {
   "cell_type": "code",
   "execution_count": 7,
   "outputs": [
    {
     "data": {
      "text/plain": "array([[ 4.8125,  0.5625, -6.6875,  1.3125],\n       [ 0.5625,  6.3125, -0.9375, -5.9375],\n       [-6.6875, -0.9375, 10.8125, -3.1875],\n       [ 1.3125, -5.9375, -3.1875,  7.8125]])"
     },
     "execution_count": 7,
     "metadata": {},
     "output_type": "execute_result"
    }
   ],
   "source": [
    "# covariance between observations\n",
    "A @ At"
   ],
   "metadata": {
    "collapsed": false,
    "ExecuteTime": {
     "end_time": "2023-07-18T14:57:06.105330Z",
     "start_time": "2023-07-18T14:57:06.098961Z"
    }
   }
  },
  {
   "cell_type": "code",
   "execution_count": 8,
   "outputs": [
    {
     "data": {
      "text/plain": "array([[10.75, -4.5 ,  6.  ],\n       [-4.5 ,  9.  ,  3.  ],\n       [ 6.  ,  3.  , 10.  ]])"
     },
     "execution_count": 8,
     "metadata": {},
     "output_type": "execute_result"
    }
   ],
   "source": [
    "# covariance between variables/features (not scaled by number of variables)\n",
    "At @ A"
   ],
   "metadata": {
    "collapsed": false,
    "ExecuteTime": {
     "end_time": "2023-07-18T14:57:06.105660Z",
     "start_time": "2023-07-18T14:57:06.104772Z"
    }
   }
  },
  {
   "cell_type": "code",
   "execution_count": 9,
   "outputs": [
    {
     "data": {
      "text/plain": "array([[ 2.3125    ,  0.6875    , -3.0625    ,  0.0625    ],\n       [ 0.6875    ,  1.39583333, -1.6875    , -0.39583333],\n       [-3.0625    , -1.6875    ,  4.5625    ,  0.1875    ],\n       [ 0.0625    , -0.39583333,  0.1875    ,  0.14583333]])"
     },
     "execution_count": 9,
     "metadata": {},
     "output_type": "execute_result"
    }
   ],
   "source": [
    "# alternate method to compute covariance (not scaled by number of variables)\n",
    "np.cov(A)"
   ],
   "metadata": {
    "collapsed": false,
    "ExecuteTime": {
     "end_time": "2023-07-18T14:57:06.109383Z",
     "start_time": "2023-07-18T14:57:06.106353Z"
    }
   }
  },
  {
   "cell_type": "code",
   "execution_count": 10,
   "outputs": [
    {
     "data": {
      "text/plain": "array([[ 3.58333333, -1.5       ,  2.        ],\n       [-1.5       ,  3.        ,  1.        ],\n       [ 2.        ,  1.        ,  3.33333333]])"
     },
     "execution_count": 10,
     "metadata": {},
     "output_type": "execute_result"
    }
   ],
   "source": [
    "np.cov(At)"
   ],
   "metadata": {
    "collapsed": false,
    "ExecuteTime": {
     "end_time": "2023-07-18T14:57:06.113311Z",
     "start_time": "2023-07-18T14:57:06.110192Z"
    }
   }
  },
  {
   "cell_type": "code",
   "execution_count": 11,
   "outputs": [
    {
     "data": {
      "text/plain": "array([[ 3.58333333, -1.5       ,  2.        ],\n       [-1.5       ,  3.        ,  1.        ],\n       [ 2.        ,  1.        ,  3.33333333]])"
     },
     "execution_count": 11,
     "metadata": {},
     "output_type": "execute_result"
    }
   ],
   "source": [
    "# the results are different because the np.cov() function uses Bessel's correction,\n",
    "# dividing the sums by n-1. we do the same below\n",
    "\n",
    "n = A.shape[0]  # number of observations\n",
    "cov_matrix = (At @ A) / (n - 1)\n",
    "cov_matrix"
   ],
   "metadata": {
    "collapsed": false,
    "ExecuteTime": {
     "end_time": "2023-07-18T14:57:06.166849Z",
     "start_time": "2023-07-18T14:57:06.113889Z"
    }
   }
  },
  {
   "cell_type": "markdown",
   "source": [
    "How to interpret this covariance matrix:\n",
    "\n",
    "The covariance matrix shows the relationship between different features of your data. Positive covariance values indicate that the two features increase together, negative values mean that when one feature increases, the other decreases, and a covariance near zero indicates that the two features are not linearly correlated.\n",
    "\n",
    "How to use this covariance data:\n",
    "\n",
    "* Dimensionality Reduction: In techniques like Principal Component Analysis (PCA), the covariance matrix is used to reduce the dimensionality of the data while retaining the important features.\n",
    "* Machine Learning: Covariance matrices are used in various machine learning algorithms such as Linear Regression, Gaussian Mixture Models, and Kalman Filters.\n",
    "* Portfolio Theory: In finance, covariance matrices are used to understand the volatility of a portfolio of diverse assets.\n",
    "* Data Analysis: Covariance matrices can provide insights into the relationships between different features in your data.\n",
    "* Feature Selection: If two features have a high absolute covariance, they are highly correlated. This might mean you could use just one of them without losing much information, which is useful when you're trying to reduce the complexity of your model."
   ],
   "metadata": {
    "collapsed": false
   }
  },
  {
   "cell_type": "code",
   "execution_count": 12,
   "outputs": [
    {
     "data": {
      "text/plain": "<Figure size 640x480 with 2 Axes>",
      "image/png": "[encoded data removed]"
     },
     "metadata": {},
     "output_type": "display_data"
    }
   ],
   "source": [
    "# create a heatmap of the covariance matrix\n",
    "sns.heatmap(cov_matrix, annot=True,\n",
    "            xticklabels=[\"Star Trek\", \"Indiana Jones\", \"Back to the Future\"],\n",
    "            yticklabels=[\"Star Trek\", \"Indiana Jones\", \"Back to the Future\"])\n",
    "plt.title(\"Covariance matrix\")\n",
    "plt.show()"
   ],
   "metadata": {
    "collapsed": false,
    "ExecuteTime": {
     "end_time": "2023-07-18T14:57:06.219311Z",
     "start_time": "2023-07-18T14:57:06.120984Z"
    }
   }
  },
  {
   "cell_type": "markdown",
   "source": [
    "The above is difficult to interpret because it is on the scale of the variables. We can fix this by creating the correlation matrix which has a range of -1 -> 1. We do this by standardizing the features"
   ],
   "metadata": {
    "collapsed": false
   }
  },
  {
   "cell_type": "code",
   "execution_count": 13,
   "outputs": [],
   "source": [
    "corr_matrix = np.corrcoef(A, rowvar=False)"
   ],
   "metadata": {
    "collapsed": false,
    "ExecuteTime": {
     "end_time": "2023-07-18T14:57:06.221710Z",
     "start_time": "2023-07-18T14:57:06.219091Z"
    }
   }
  },
  {
   "cell_type": "code",
   "execution_count": 14,
   "outputs": [
    {
     "data": {
      "text/plain": "<Figure size 640x480 with 2 Axes>",
      "image/png": "[encoded data removed]"
     },
     "metadata": {},
     "output_type": "display_data"
    }
   ],
   "source": [
    "sns.heatmap(corr_matrix, annot=True,\n",
    "            xticklabels=[\"Star Trek\", \"Indiana Jones\", \"Back to the Future\"],\n",
    "            yticklabels=[\"Star Trek\", \"Indiana Jones\", \"Back to the Future\"])\n",
    "plt.title(\"Correlation matrix\")\n",
    "plt.show()"
   ],
   "metadata": {
    "collapsed": false,
    "ExecuteTime": {
     "end_time": "2023-07-18T14:57:06.324350Z",
     "start_time": "2023-07-18T14:57:06.225147Z"
    }
   }
  },
  {
   "cell_type": "markdown",
   "source": [
    "Correlation ranges from -1 -> 1.\n",
    "* -1 means perfect correlation in opposite directions (negative correlation)\n",
    "* +1 means perfect correlation in the same direction\n",
    "* 0 means no correlation\n",
    "\n",
    "Numbers in between indicate some level of correlation. As an example:\n",
    "\n",
    "* 0-0.3 or 0 to -0.3: Little to weak correlation\n",
    "* 0.3-0.7 or -0.3 to -0.7: Moderate correlation\n",
    "* 0.7-1 or -0.7 to -1: Strong correlation"
   ],
   "metadata": {
    "collapsed": false
   }
  },
  {
   "cell_type": "markdown",
   "source": [
    "### Now for SVD\n",
    "\n",
    "In the SVD of a matrix A = UΣVᵗ, U and V are both orthogonal matrices, but they are not transposes of each other.\n",
    "\n",
    "U is the eigendecomposition of A * Aᵗ sorted in descending order  --> These are the left singular vectors of A\n",
    "Vᵗ is the eigendecomposition of Aᵗ * A sorted in descending order  --> These are the right singular vectors of A\n",
    "Σ is the square root of the eigenvalues of either left or right singular values sorted in decending order\n",
    "\n",
    "Common uses for SVD:\n",
    "\n",
    "* Matrix Factorization: The SVD factorizes a matrix A into three separate matrices: U, Σ, and Vᵀ. This factorization can be used to approximate or reconstruct the original matrix A. By selecting a subset of singular values and their associated singular vectors, you can represent A with reduced dimensions, effectively compressing the data.\n",
    "* Rank Determination: The SVD provides information about the rank of a matrix. The number of non-zero singular values indicates the rank, and any zero singular values imply linear dependence among the columns or rows of the matrix. This property can be useful for feature selection, dimensionality reduction, and identifying the intrinsic structure of the data.\n",
    "* Low-Rank Approximation: By retaining only the largest singular values and their associated singular vectors, you can obtain a low-rank approximation of the original matrix A. This approximation can be useful for denoising data, reducing noise or outliers, and extracting dominant patterns or features.\n",
    "* Data Compression and Reconstruction: The SVD allows you to compress data by representing it with a reduced number of singular values and their corresponding singular vectors. You can then reconstruct the original data from this compressed representation. This technique is particularly valuable in applications where storage or computational resources are limited.\n",
    "* Collaborative Filtering and Recommendation Systems: The SVD has been widely used in recommender systems to analyze user-item matrices. By decomposing the matrix into user and item latent factors, the SVD-based models can make personalized recommendations based on patterns and similarities among users and items.\n",
    "* Principal Component Analysis (PCA): PCA is a technique that utilizes the SVD to transform a dataset into a new coordinate system, where the transformed variables (principal components) capture the maximum variance in the data. PCA is useful for data visualization, dimensionality reduction, and feature extraction.\n",
    "* Data Cleaning and Outlier Detection: The SVD can help identify and handle outliers in data. By examining the contribution of singular values and the associated singular vectors, anomalies or outliers can be identified based on their significant deviation from the normal patterns in the data."
   ],
   "metadata": {
    "collapsed": false
   }
  },
  {
   "cell_type": "code",
   "execution_count": 17,
   "outputs": [
    {
     "name": "stdout",
     "output_type": "stream",
     "text": [
      "Left singular vectors (U):\n",
      "[[ 0.46331447 -0.25857901  0.6844535   0.5       ]\n",
      " [-0.16393032 -0.67966586 -0.51105887  0.5       ]\n",
      " [-0.74704085  0.34454414  0.27059065  0.5       ]\n",
      " [ 0.4476567   0.59370073 -0.44398528  0.5       ]]\n",
      "Singular values (s):\n",
      "[4.08220991 3.49117    0.94725616]\n",
      "Right singular vectors (Vh):\n",
      "[[ 0.77215376 -0.22001624  0.59613038]\n",
      " [-0.20007926  0.80624392  0.55672168]\n",
      " [-0.60311431 -0.54914806  0.57852359]]\n"
     ]
    }
   ],
   "source": [
    "# Compute SVD\n",
    "U, s, Vh = np.linalg.svd(A)\n",
    "\n",
    "print(\"Left singular vectors (U):\")\n",
    "print(U)\n",
    "print(\"Singular values (s):\")\n",
    "print(s)\n",
    "print(\"Right singular vectors (Vh):\")\n",
    "print(Vh)"
   ],
   "metadata": {
    "collapsed": false,
    "ExecuteTime": {
     "end_time": "2023-07-18T15:02:22.290483Z",
     "start_time": "2023-07-18T15:02:22.284894Z"
    }
   }
  },
  {
   "cell_type": "code",
   "execution_count": null,
   "outputs": [],
   "source": [],
   "metadata": {
    "collapsed": false
   }
  }
 ],
 "metadata": {
  "kernelspec": {
   "display_name": "Python 3",
   "language": "python",
   "name": "python3"
  },
  "language_info": {
   "codemirror_mode": {
    "name": "ipython",
    "version": 2
   },
   "file_extension": ".py",
   "mimetype": "text/x-python",
   "name": "python",
   "nbconvert_exporter": "python",
   "pygments_lexer": "ipython2",
   "version": "2.7.6"
  }
 },
 "nbformat": 4,
 "nbformat_minor": 0
}
