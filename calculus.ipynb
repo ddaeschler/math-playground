{
 "cells": [
  {
   "cell_type": "code",
   "execution_count": 20,
   "metadata": {
    "collapsed": true
   },
   "outputs": [
    {
     "name": "stdout",
     "output_type": "stream",
     "text": [
      "Velocity at 5 seconds: 49.0\n"
     ]
    }
   ],
   "source": [
    "import math\n",
    "\n",
    "# exploring limits\n",
    "GRAVITY = 9.8\n",
    "\n",
    "# where time is on the x-axis so x = number of seconds.\n",
    "# intentionally confusing just like all math examples\n",
    "velocityAt = lambda x: (GRAVITY * x)\n",
    "\n",
    "SECONDS = 5\n",
    "print(f'Velocity at {SECONDS} seconds: {velocityAt(SECONDS)}')"
   ]
  },
  {
   "cell_type": "markdown",
   "source": [
    "Limits play a crucial role in the concept of differentiation, providing a rigorous foundation for understanding derivatives and instantaneous rates of change. In calculus, a limit describes the value a function approaches as the input approaches a certain value. The concept of a limit is used to formally define the derivative of a function, which represents the instantaneous rate of change of the function with respect to its input variable.\n",
    "\n",
    "To understand how limits relate to differentiation, let's consider a function f(x). We want to find the slope of the tangent line to the curve defined by f(x) at a specific point, say x = a. The slope of the tangent line represents the instantaneous rate of change of f(x) at x = a.\n",
    "\n",
    "To find this slope, we can start by considering the average rate of change of f(x) over a small interval around x = a, from x = a to x = a + h, where h is a small, non-zero value. The average rate of change in this interval is given by the difference quotient:\n",
    "\n",
    "(f(a + h) - f(a)) / h\n",
    "\n",
    "Now, to find the instantaneous rate of change at x = a, we need to find the value that the difference quotient approaches as h approaches zero. This is where the concept of a limit comes into play. The derivative of the function f(x) at x = a, denoted by f'(a), is defined as the limit of the difference quotient as h approaches zero:\n",
    "\n",
    "f'(a) = lim (h -> 0) [(f(a + h) - f(a)) / h]\n",
    "\n",
    "If this limit exists, then f(x) is said to be differentiable at x = a, and the value of the limit, f'(a), represents the slope of the tangent line to the curve at x = a.\n",
    "\n",
    "In summary, limits are essential to the concept of differentiation because they allow us to rigorously define the derivative of a function as the limit of the difference quotient. This provides a solid foundation for understanding instantaneous rates of change and the behavior of functions as their input values change."
   ],
   "metadata": {
    "collapsed": false
   }
  },
  {
   "cell_type": "code",
   "execution_count": 23,
   "outputs": [
    {
     "name": "stdout",
     "output_type": "stream",
     "text": [
      "[9.800000000000004, 9.799999999999969, 9.799999999999898, 9.800000000005582, 9.799999999984266, 9.800000000126374]\n"
     ]
    }
   ],
   "source": [
    "# find the limit of the function to get instantaneous rate of change\n",
    "# for gravity, sine it is a constant acceleration, we should always\n",
    "# converge around 9.8\n",
    "\n",
    "# remember f'(a) = lim (h -> 0) [(f(a + h) - f(a)) / h]\n",
    "lim = lambda f, a, h: (f(a + h) - f(a)) / h\n",
    "\n",
    "STEP_SIZES = [1, 0.1, 0.01, 0.001, 0.0001, 0.00001]\n",
    "\n",
    "\n",
    "# so h will be some fraction of a second. let's iterate and see what happens\n",
    "converge = [lim(velocityAt, SECONDS, timeStep) for timeStep in STEP_SIZES]\n",
    "print(converge)"
   ],
   "metadata": {
    "collapsed": false
   }
  },
  {
   "cell_type": "markdown",
   "source": [
    "![Half Circle](media/half_circle.png)"
   ],
   "metadata": {
    "collapsed": false
   }
  },
  {
   "cell_type": "code",
   "execution_count": 30,
   "outputs": [
    {
     "name": "stdout",
     "output_type": "stream",
     "text": [
      "[-0.31640379061051593, -0.21480126263476507, -0.20518773613904528, -0.2042304643214976, -0.20413477673564273, -0.2041252083806455]\n",
      "[-0.5825756949558398, -0.4495517314046893, -0.4377359365735245, -0.43656568444649935, -0.4364487697561259, -0.4364370793652483]\n",
      "[-3.0, -1.381823957491628, -1.3379836671559175, -1.333796502185347, -1.3333796316850055, -1.3333379628832631]\n"
     ]
    }
   ],
   "source": [
    "# what about for a half-circle?\n",
    "# remember the formula for a unit circle is x² + y² = r²\n",
    "# for a circle with a radius of 5 units, we get r = 25\n",
    "# so solving for y we get y = sqrt(25 - x²) as seen below\n",
    "# this gives us the top half of the circle\n",
    "\n",
    "halfCircle = lambda x: math.sqrt(25 - x**2)\n",
    "\n",
    "converge = [lim(halfCircle, 1, timeStep) for timeStep in STEP_SIZES]\n",
    "print(converge)\n",
    "converge = [lim(halfCircle, 2, timeStep) for timeStep in STEP_SIZES]\n",
    "print(converge)\n",
    "converge = [lim(halfCircle, 4, timeStep) for timeStep in STEP_SIZES]\n",
    "print(converge)"
   ],
   "metadata": {
    "collapsed": false
   }
  },
  {
   "cell_type": "markdown",
   "source": [
    "Now let's manually differentiate for both and see if we get similar results\n",
    "Remember:\n",
    "- The derivative of a constant is 0\n",
    "- We must identify the inner and outer functions if they exist\n",
    "- Power Rule: The derivative of x^n^ (where n is a constant) is nx^(n-1)^\n",
    "\n",
    "So:\n",
    "In sqrt(25 - x**2) we actually have:\n",
    "- inner function:  25 - x^2^\n",
    "- outer function: sqrt(inner function)\n",
    "\n",
    "Compute the derivatives for each function.\n",
    "\n",
    "Let's start with the inner function 25 - x^2^\n",
    "- 25 is a constant, so it goes to zero\n",
    "- -x^2 use the power rule becomes 2x to the 1st power, or just 2x\n",
    "- **inner function derivative: -2x**\n",
    "\n",
    "For the outer function, we're also using the power rule, but it is not as straightforward\n",
    "Remember that √x can also be written as x^1/2^\n",
    "\n",
    "Applying the power rule, for the outer function derivative we get:\n",
    "- d/dx sqrt(inner function) = 1/2(inner function)^-1/2^\n",
    "\n",
    "Since a negative exponent means taking the reciprocal of the base:\n",
    "- a^(-n)^ = 1/a^n^\n",
    "- 1/2(inner function)^-1/2^ = 1/2 * 1/(inner function)^(1/2)\n",
    "\n",
    "Also remember that anything to the power of 1/2 is the same as sqrt, so:\n",
    "- 1/2 * 1/(inner function)^(1/2) = 1/2 * 1/sqrt(inner function)\n",
    "- Then multiply the fractions to get: 1/(2 * sqrt(inner function))\n",
    "- **outer function derivative: 1/(2 * sqrt(inner function))**\n",
    "\n",
    "Apply the chain rule:\n",
    "- The chain rule states that the derivative of a composite function is the product of the derivative of the outer function and the derivative of the inner function\n",
    "\n",
    "So our derivative after applying the chain rule is:  1/(2 * sqrt(inner function)) * -2x\n",
    "Substituting the inner function we get:\n",
    "- **1/(2 * sqrt(25 - x^2^)) * -2x**\n",
    "or factoring out the common 2 scalar:\n",
    "- **-x/sqrt(25 - x^2^) as our final derivative**\n",
    "\n"
   ],
   "metadata": {
    "collapsed": false
   }
  },
  {
   "cell_type": "code",
   "execution_count": 31,
   "outputs": [
    {
     "name": "stdout",
     "output_type": "stream",
     "text": [
      "-0.20412414523193154\n",
      "-0.4364357804719848\n",
      "-1.3333333333333333\n"
     ]
    }
   ],
   "source": [
    "# plugging this in to find the instantaneous change at x == 2 and x == 4 to see how close we were\n",
    "circle_deriv = lambda x: -x/math.sqrt(25 - x**2)\n",
    "print(circle_deriv(1))\n",
    "print(circle_deriv(2))\n",
    "print(circle_deriv(4))"
   ],
   "metadata": {
    "collapsed": false
   }
  },
  {
   "cell_type": "markdown",
   "source": [
    "Wow! Right on the money! Proves calculus works :D"
   ],
   "metadata": {
    "collapsed": false
   }
  },
  {
   "cell_type": "code",
   "execution_count": null,
   "outputs": [],
   "source": [],
   "metadata": {
    "collapsed": false
   }
  }
 ],
 "metadata": {
  "kernelspec": {
   "display_name": "Python 3",
   "language": "python",
   "name": "python3"
  },
  "language_info": {
   "codemirror_mode": {
    "name": "ipython",
    "version": 2
   },
   "file_extension": ".py",
   "mimetype": "text/x-python",
   "name": "python",
   "nbconvert_exporter": "python",
   "pygments_lexer": "ipython2",
   "version": "2.7.6"
  }
 },
 "nbformat": 4,
 "nbformat_minor": 0
}
