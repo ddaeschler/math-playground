{
 "nbformat": 4,
 "nbformat_minor": 0,
 "metadata": {
  "colab": {
   "provenance": []
  },
  "kernelspec": {
   "name": "python3",
   "display_name": "Python 3 (ipykernel)",
   "language": "python"
  },
  "language_info": {
   "name": "python"
  }
 },
 "cells": [
  {
   "metadata": {
    "ExecuteTime": {
     "end_time": "2024-07-13T12:42:22.484561Z",
     "start_time": "2024-07-13T12:42:22.482741Z"
    }
   },
   "cell_type": "code",
   "source": "# from https://towardsdatascience.com/variational-inference-the-basics-f70ac511bcea",
   "outputs": [],
   "execution_count": 31
  },
  {
   "cell_type": "code",
   "source": [
    "from functools import partial\n",
    "\n",
    "import jax\n",
    "from jax import jit, grad, random, vmap\n",
    "import jax.numpy as jnp\n",
    "import jax.scipy as jsp\n",
    "from matplotlib import pyplot as plt\n",
    "import optax\n",
    "from sklearn import datasets"
   ],
   "metadata": {
    "id": "aZWk1QR57Kg-",
    "ExecuteTime": {
     "end_time": "2024-07-13T12:55:06.082460Z",
     "start_time": "2024-07-13T12:55:06.079700Z"
    }
   },
   "outputs": [],
   "execution_count": 46
  },
  {
   "cell_type": "code",
   "source": [
    "digits = datasets.load_digits()\n",
    "is_zero = digits.target == 0\n",
    "X_train = digits.images[is_zero]"
   ],
   "metadata": {
    "id": "J2y47ewn7L2N",
    "ExecuteTime": {
     "end_time": "2024-07-13T12:55:06.506290Z",
     "start_time": "2024-07-13T12:55:06.499895Z"
    }
   },
   "outputs": [],
   "execution_count": 47
  },
  {
   "cell_type": "markdown",
   "source": [
    "Show one example digit."
   ],
   "metadata": {
    "id": "WZYnNxhF8aXD"
   }
  },
  {
   "cell_type": "code",
   "source": "plt.imshow(X_train[0])",
   "metadata": {
    "colab": {
     "base_uri": "https://localhost:8080/",
     "height": 430
    },
    "id": "b7NneR557ONX",
    "outputId": "bf01604f-c99e-4198-8aac-8bf3ec9c25e0",
    "ExecuteTime": {
     "end_time": "2024-07-13T12:55:07.663642Z",
     "start_time": "2024-07-13T12:55:07.604577Z"
    }
   },
   "outputs": [
    {
     "data": {
      "text/plain": [
       "<matplotlib.image.AxesImage at 0x384f0a410>"
      ]
     },
     "execution_count": 48,
     "metadata": {},
     "output_type": "execute_result"
    },
    {
     "data": {
      "text/plain": [
       "<Figure size 640x480 with 1 Axes>"
      ],
      "image/png": "[encoded data removed]"
     },
     "metadata": {},
     "output_type": "display_data"
    }
   ],
   "execution_count": 48
  },
  {
   "cell_type": "code",
   "source": [
    "n_pixels = 64\n",
    "X_train = X_train.reshape((-1, n_pixels))"
   ],
   "metadata": {
    "id": "xOgv_cWE8TwP",
    "ExecuteTime": {
     "end_time": "2024-07-13T12:42:22.622170Z",
     "start_time": "2024-07-13T12:42:22.620649Z"
    }
   },
   "outputs": [],
   "execution_count": 35
  },
  {
   "cell_type": "markdown",
   "source": [
    "Assume that for each digit, the pixels  $\\pmb{x}^{(i)}$ in image $i=1,\\dots,m$ are generated from a single set of $\\pmb{\\Theta}$. Specifically, assume that the intensity of the pixels (a count) is Poisson distributed according to a gamma distributed mean:\n",
    "$$\n",
    "p(\\pmb{x}^{(i)}, \\pmb{\\Theta}) = \\mathrm{Pois}(\\pmb{x}^{(i)}|\\pmb{\\Theta}) \\mathrm{Gam}(\\pmb{\\Theta}|a, b).\n",
    "$$\n",
    "A domain expert may have some idea what the digit zero looks like. He can inform you what is a reasonable starting point for the pixel intensities $\\pmb{\\Theta}$. We can directly infuse this prior knowledge in the model by choosing the parameters $a$ and $b$."
   ],
   "metadata": {
    "id": "IEvLoPZWNxSw"
   }
  },
  {
   "cell_type": "code",
   "source": [
    "x_domain_knowledge = jnp.array(\n",
    "  [[ 1,  1, 16, 16, 16, 16,  1,  1],\n",
    "  [ 1, 16, 16,  1,  1, 16, 16,  1],\n",
    "  [16, 16,  1,  1,  1,  1, 16, 16],\n",
    "  [16,  1,  1,  1,  1,  1,  1, 16],\n",
    "  [16,  1,  1,  1,  1,  1,  1, 16],\n",
    "  [16, 16,  1,  1,  1,  1, 16, 16],\n",
    "  [ 1, 16, 16,  1,  1, 16, 16,  1],\n",
    "  [ 1,  1, 16, 16, 16, 16,  1,  1]],\n",
    ").flatten()\n",
    "plt.imshow(x_domain_knowledge.reshape(8, 8))\n",
    "plt.axis('off')"
   ],
   "metadata": {
    "colab": {
     "base_uri": "https://localhost:8080/",
     "height": 423
    },
    "id": "iS2qEKYU76ov",
    "outputId": "d13ca663-5daa-41b2-bf4a-08450ebc2106",
    "ExecuteTime": {
     "end_time": "2024-07-13T12:42:22.645914Z",
     "start_time": "2024-07-13T12:42:22.623253Z"
    }
   },
   "outputs": [
    {
     "data": {
      "text/plain": [
       "(-0.5, 7.5, 7.5, -0.5)"
      ]
     },
     "execution_count": 36,
     "metadata": {},
     "output_type": "execute_result"
    },
    {
     "data": {
      "text/plain": [
       "<Figure size 640x480 with 1 Axes>"
      ],
      "image/png": "[encoded data removed]"
     },
     "metadata": {},
     "output_type": "display_data"
    }
   ],
   "execution_count": 36
  },
  {
   "cell_type": "code",
   "source": [
    "# Hyperparameters of the model.\n",
    "a = 2. * x_domain_knowledge\n",
    "b = 2.\n",
    "\n",
    "def log_joint(θ):\n",
    "  log_likelihood = jnp.sum(jsp.stats.gamma.logpdf(θ, a, scale=1./b))\n",
    "  log_likelihood += jnp.sum(jsp.stats.poisson.logpmf(X_train, θ))\n",
    "  return log_likelihood"
   ],
   "metadata": {
    "id": "GHV_mWmY7Qj_",
    "ExecuteTime": {
     "end_time": "2024-07-13T12:42:22.648349Z",
     "start_time": "2024-07-13T12:42:22.646539Z"
    }
   },
   "outputs": [],
   "execution_count": 37
  },
  {
   "cell_type": "markdown",
   "source": [
    "We estimate the posterior using variational inference. The trick is to minimise the evidence lower bound (ELBO)\n",
    "$$\n",
    "\\mathcal{L}(\\pmb{\\Theta}) = \\mathrm{E}_{q(\\pmb{\\Theta}|\\pmb{\\Phi})} \\left[ \\ln p(\\pmb{X}, \\pmb{\\Theta}) - \\ln q(\\pmb{\\Theta}|\\pmb{\\Phi}) \\right],\n",
    "$$\n",
    "with respect to (the variational) distribution $q(\\pmb{\\Theta}|\\pmb{\\Phi})$ (we denoted $\\pmb{X} = [\\pmb{x}^{(1)},\\dots,\\pmb{x}^{(m)}]^T$ as a shorthand). In practice, we choose a $q$ that is easy to sample, adjust its parameters $\\pmb{\\Phi}$, and estimate the average using samples of $q$.\n",
    "\n",
    "In our case, we make the simplification that q factorises (i.e., mean field approximation) into gamma's with shape $\\alpha_j$ and rate $\\beta_j$. One gamma distribution per pixel $j$:\n",
    "$$\n",
    "q(\\pmb{\\Theta}|\\pmb{\\Phi}) = \\prod_{j=1}^n \\mathrm{Gamma}(\\theta_j | \\alpha_j, \\beta_j),\n",
    "$$\n",
    "\n",
    "where denote the entire set of parameters as $\\pmb{\\Phi} = \\{ \\alpha_j, \\beta_j \\}_{j=1}^{n}$."
   ],
   "metadata": {
    "id": "lqpvDGcQIiZ6"
   }
  },
  {
   "cell_type": "code",
   "source": [
    "@partial(vmap, in_axes=(0, None, None))\n",
    "def evidence_lower_bound(θ_i, alpha, inv_beta):\n",
    "  elbo = log_joint(θ_i) - jnp.sum(jsp.stats.gamma.logpdf(θ_i, alpha, scale=inv_beta))\n",
    "  return elbo\n",
    "\n",
    "def loss(Φ: dict, key):\n",
    "  \"\"\"Stochastic estimate of evidence lower bound.\"\"\"\n",
    "  alpha = jnp.exp(Φ['log_alpha'])\n",
    "  inv_beta = jnp.exp(-Φ['log_beta'])\n",
    "\n",
    "  # Sample a batch from variational distribution q.\n",
    "  batch_size = 128\n",
    "  θ_samples = random.gamma(key, alpha , shape=[batch_size, n_pixels]) * inv_beta\n",
    "\n",
    "  # Compute Monte Carlo estimate of evidence lower bound.\n",
    "  elbo_loss = jnp.mean(evidence_lower_bound(θ_samples, alpha, inv_beta))\n",
    "\n",
    "  # Turn elbo into a loss.\n",
    "  return -elbo_loss"
   ],
   "metadata": {
    "id": "u3UaSMmV7Xev",
    "ExecuteTime": {
     "end_time": "2024-07-13T12:42:22.650727Z",
     "start_time": "2024-07-13T12:42:22.648770Z"
    }
   },
   "outputs": [],
   "execution_count": 38
  },
  {
   "cell_type": "code",
   "source": [
    "# Initialise parameters using prior.\n",
    "Φ = {\n",
    "    'log_alpha': jnp.log(a),\n",
    "    'log_beta': jnp.full(fill_value=jnp.log(b), shape=[n_pixels]),\n",
    "}\n",
    "\n",
    "loss_val_grad = jit(jax.value_and_grad(loss))\n",
    "optimiser = optax.adam(learning_rate=0.2)\n",
    "opt_state = optimiser.init(Φ)"
   ],
   "metadata": {
    "id": "LCXSgMjP8mmj",
    "ExecuteTime": {
     "end_time": "2024-07-13T12:42:22.663569Z",
     "start_time": "2024-07-13T12:42:22.651144Z"
    }
   },
   "outputs": [],
   "execution_count": 39
  },
  {
   "cell_type": "code",
   "source": [
    "n_iter = 5_000\n",
    "key, rng_key = random.split(random.PRNGKey(42))\n",
    "keys = random.split(rng_key, num=n_iter)\n",
    "\n",
    "for i, key in enumerate(keys):\n",
    "  elbo, grads = loss_val_grad(Φ, key)\n",
    "  updates, opt_state = optimiser.update(grads, opt_state)\n",
    "  Φ = optax.apply_updates(Φ, updates)\n",
    "  if i % 100 == 0:\n",
    "    print(f'{i}: ELBO loss', elbo)"
   ],
   "metadata": {
    "colab": {
     "base_uri": "https://localhost:8080/"
    },
    "id": "0Lb3t2nc-VJy",
    "outputId": "a171801e-a96f-47a0-d442-2ef03a6cd6f4",
    "ExecuteTime": {
     "end_time": "2024-07-13T12:43:11.135555Z",
     "start_time": "2024-07-13T12:42:22.664110Z"
    }
   },
   "outputs": [
    {
     "name": "stdout",
     "output_type": "stream",
     "text": [
      "0: ELBO loss 114453.19\n",
      "100: ELBO loss 22621.656\n",
      "200: ELBO loss 22043.814\n",
      "300: ELBO loss 21841.412\n",
      "400: ELBO loss 21751.209\n",
      "500: ELBO loss 21691.906\n",
      "600: ELBO loss 21658.844\n",
      "700: ELBO loss 21631.492\n",
      "800: ELBO loss 21622.268\n",
      "900: ELBO loss 21606.408\n",
      "1000: ELBO loss 21599.525\n",
      "1100: ELBO loss 21593.135\n",
      "1200: ELBO loss 21587.605\n",
      "1300: ELBO loss 21582.559\n",
      "1400: ELBO loss 21578.78\n",
      "1500: ELBO loss 21578.584\n",
      "1600: ELBO loss 21574.668\n",
      "1700: ELBO loss 21577.129\n",
      "1800: ELBO loss 21573.684\n",
      "1900: ELBO loss 21572.172\n",
      "2000: ELBO loss 21574.1\n",
      "2100: ELBO loss 21572.219\n",
      "2200: ELBO loss 21571.613\n",
      "2300: ELBO loss 21570.883\n",
      "2400: ELBO loss 21570.43\n",
      "2500: ELBO loss 21570.49\n",
      "2600: ELBO loss 21569.992\n",
      "2700: ELBO loss 21570.379\n",
      "2800: ELBO loss 21570.254\n",
      "2900: ELBO loss 21573.525\n",
      "3000: ELBO loss 21569.176\n",
      "3100: ELBO loss 21569.79\n",
      "3200: ELBO loss 21569.652\n",
      "3300: ELBO loss 21571.453\n",
      "3400: ELBO loss 21571.25\n",
      "3500: ELBO loss 21570.973\n",
      "3600: ELBO loss 21570.271\n",
      "3700: ELBO loss 21571.68\n",
      "3800: ELBO loss 21570.822\n",
      "3900: ELBO loss 21571.01\n",
      "4000: ELBO loss 21572.14\n",
      "4100: ELBO loss 21570.248\n",
      "4200: ELBO loss 21571.398\n",
      "4300: ELBO loss 21570.354\n",
      "4400: ELBO loss 21575.723\n",
      "4500: ELBO loss 21573.1\n",
      "4600: ELBO loss 21571.36\n",
      "4700: ELBO loss 21571.762\n",
      "4800: ELBO loss 21573.668\n",
      "4900: ELBO loss 21571.773\n"
     ]
    }
   ],
   "execution_count": 40
  },
  {
   "cell_type": "markdown",
   "source": [
    "Because the gamma and Poisson distribution are conjugate, we know the posterior of $\\pmb{\\Theta}$ in closed form:\n",
    "$$\n",
    "p(\\pmb{\\Theta} | \\pmb{x}^{(1)},\\dots,\\pmb{x}^{(m)}) = \\mathrm{Gam}\\left(\\pmb{\\Theta}|\\pmb{a} + \\sum_{i=1}^m \\pmb{x}^{(i)}, \\pmb{b} + m \\right).\n",
    "$$"
   ],
   "metadata": {
    "id": "tj4FXtQBIeuS"
   }
  },
  {
   "cell_type": "code",
   "source": [
    "alpha = jnp.exp(Φ['log_alpha'])\n",
    "inv_beta = jnp.exp(-Φ['log_beta'])\n",
    "θ_interval = jnp.linspace(0, 16, 100)[:, None]\n",
    "\n",
    "# Variational density.\n",
    "q_z = jsp.stats.gamma.pdf(θ_interval, alpha, scale=inv_beta)\n",
    "\n",
    "# Density of exact solution.\n",
    "alpha_true = a + X_train.sum(axis=0)\n",
    "beta_true = b + len(X_train)\n",
    "p_z_true = jsp.stats.gamma.pdf(θ_interval, alpha_true, scale=1/(beta_true))"
   ],
   "metadata": {
    "id": "0eWzI2p8Ao6V",
    "ExecuteTime": {
     "end_time": "2024-07-13T12:43:11.140230Z",
     "start_time": "2024-07-13T12:43:11.136422Z"
    }
   },
   "outputs": [],
   "execution_count": 41
  },
  {
   "cell_type": "code",
   "source": [
    "f, axs = plt.subplots(1, 2)\n",
    "axs[0].set_title('True mean')\n",
    "axs[0].imshow(X_train.mean(axis=0).reshape(8, 8))\n",
    "axs[1].set_title(r'Posterior mean: $\\alpha / \\beta$')\n",
    "mean = alpha * inv_beta\n",
    "axs[1].imshow(mean.reshape(8, 8))\n",
    "\n",
    "def inset_distribution(x, y, alpha, inv_beta, ax):\n",
    "  \"\"\"Inset comparing exact with variational solution\"\"\"\n",
    "  ax.set_xlim(x-0.5, x+0.5)\n",
    "  ax.set_ylim(y-0.5, y+0.5)\n",
    "  ax.set_xticklabels([])\n",
    "  ax.set_yticklabels([])\n",
    "\n",
    "  p_var = q_z.reshape(-1, 8, 8)[:, y, x]\n",
    "  p_true = p_z_true.reshape(-1, 8, 8)[:, y, x]\n",
    "  prob_scale = max(*p_var, *p_true)\n",
    "  # Shift to (x, y) and scale to (1, 1).\n",
    "  x_transl = θ_interval/16 + x - 0.5\n",
    "  y_var = p_var / prob_scale + y - 0.5\n",
    "  y_true = p_true / prob_scale + y - 0.5\n",
    "  ax.plot(x_transl, y_var, '-', label='variational')\n",
    "  ax.plot(x_transl, y_true, '--', label='exact')\n",
    "  ax.legend(frameon=False, prop={'size': 6}, loc='best')\n",
    "\n",
    "\n",
    "axin1 = axs[1].inset_axes([1.2, 0.5, 1.0, 0.45])\n",
    "axin2 = axs[1].inset_axes([1.2, 0.0, 1.0, 0.45])\n",
    "\n",
    "inset_distribution(4, 0, alpha, inv_beta, axin1)\n",
    "axs[1].indicate_inset_zoom(axin1, edgecolor=\"tab:red\", linewidth=2.0, alpha=1.)\n",
    "\n",
    "inset_distribution(6, 4, alpha, inv_beta, axin2)\n",
    "axs[1].indicate_inset_zoom(axin2, edgecolor=\"tab:red\", linewidth=2.0, alpha=1.)"
   ],
   "metadata": {
    "colab": {
     "base_uri": "https://localhost:8080/",
     "height": 395
    },
    "id": "g0VUrC_z-p_h",
    "outputId": "179a67ef-a3c3-4045-f706-420972a0590d",
    "ExecuteTime": {
     "end_time": "2024-07-13T12:43:11.318697Z",
     "start_time": "2024-07-13T12:43:11.142119Z"
    }
   },
   "outputs": [
    {
     "data": {
      "text/plain": [
       "(<matplotlib.patches.Rectangle at 0x383b4f5d0>,\n",
       " (<matplotlib.patches.ConnectionPatch at 0x383bb4710>,\n",
       "  <matplotlib.patches.ConnectionPatch at 0x383789110>,\n",
       "  <matplotlib.patches.ConnectionPatch at 0x383b8b9d0>,\n",
       "  <matplotlib.patches.ConnectionPatch at 0x383ccffd0>))"
      ]
     },
     "execution_count": 42,
     "metadata": {},
     "output_type": "execute_result"
    },
    {
     "data": {
      "text/plain": [
       "<Figure size 640x480 with 2 Axes>"
      ],
      "image/png": "[encoded data removed]"
     },
     "metadata": {},
     "output_type": "display_data"
    }
   ],
   "execution_count": 42
  },
  {
   "cell_type": "markdown",
   "source": [
    "## Bonus: Generative modelling\n",
    "We can now easily generate new images using the posterior:\n",
    "- Sample $\\pmb{\\Theta} \\sim q(\\pmb{\\Theta}|\\pmb{\\Phi})$\n",
    "- Sample $\\pmb{x} \\sim \\mathrm{Poisson}(\\pmb{x}|\\pmb{\\Theta})$."
   ],
   "metadata": {
    "id": "oB22tEZdOKtE"
   }
  },
  {
   "cell_type": "code",
   "source": [
    "# 1) Generate pixel-level intensities for 10 images.\n",
    "key_θ, key_x = random.split(key)\n",
    "m_new_images, n_pixels = 10, 64\n",
    "θ_samples = random.gamma(key_θ, alpha , shape=[m_new_images, n_pixels]) * inv_beta\n",
    "\n",
    "# 2) Sample 10 image from intensities.\n",
    "X_synthetic = random.poisson(key_x, θ_samples)"
   ],
   "metadata": {
    "id": "H6UlM9WjLp81",
    "ExecuteTime": {
     "end_time": "2024-07-13T12:43:11.321870Z",
     "start_time": "2024-07-13T12:43:11.319325Z"
    }
   },
   "outputs": [],
   "execution_count": 43
  },
  {
   "cell_type": "code",
   "source": [
    "f, axs = plt.subplots(2, 5)\n",
    "f.suptitle('Synthetic images')\n",
    "for i, (x_i, ax) in enumerate(zip(X_synthetic, axs.flatten())):\n",
    "  ax.set_title(f'Image {i+1}')\n",
    "  ax.imshow(x_i.reshape(8, 8))\n",
    "  ax.axis('off')\n",
    "\n",
    "plt.subplots_adjust(wspace=0, hspace=0)\n",
    "plt.tight_layout()\n"
   ],
   "metadata": {
    "colab": {
     "base_uri": "https://localhost:8080/",
     "height": 431
    },
    "id": "rrkzvfk2Mvvw",
    "outputId": "fd9cffe5-2263-4080-a748-4346344453e7",
    "ExecuteTime": {
     "end_time": "2024-07-13T12:43:11.471902Z",
     "start_time": "2024-07-13T12:43:11.322431Z"
    }
   },
   "outputs": [
    {
     "data": {
      "text/plain": [
       "<Figure size 640x480 with 10 Axes>"
      ],
      "image/png": "[encoded data removed]"
     },
     "metadata": {},
     "output_type": "display_data"
    }
   ],
   "execution_count": 44
  },
  {
   "metadata": {
    "ExecuteTime": {
     "end_time": "2024-07-13T12:43:11.473602Z",
     "start_time": "2024-07-13T12:43:11.472443Z"
    }
   },
   "cell_type": "code",
   "source": "",
   "outputs": [],
   "execution_count": 44
  }
 ]
}
