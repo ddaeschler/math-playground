{
 "cells": [
  {
   "cell_type": "code",
   "execution_count": 1,
   "id": "initial_id",
   "metadata": {
    "collapsed": true,
    "ExecuteTime": {
     "end_time": "2023-08-04T15:51:17.724740Z",
     "start_time": "2023-08-04T15:51:16.763811Z"
    }
   },
   "outputs": [
    {
     "name": "stdout",
     "output_type": "stream",
     "text": [
      "0.12951759566589174\n"
     ]
    }
   ],
   "source": [
    "from scipy.stats import norm\n",
    "\n",
    "# Syntax:\n",
    "# norm.pdf(x, loc=0, scale=1)\n",
    "\n",
    "# Usage:\n",
    "mean = 0      # Mean of the normal distribution\n",
    "std_dev = 1   # Standard deviation of the normal distribution\n",
    "x_value = 1.5 # Value at which to calculate the PDF\n",
    "\n",
    "pdf_value = norm.pdf(x_value, mean, std_dev)\n",
    "print(pdf_value)  # Output: The probability density at x_value\n"
   ]
  },
  {
   "cell_type": "markdown",
   "source": [
    "The above tells us within this distribution, there is a 12.9% chance of seeing the value 1.5"
   ],
   "metadata": {
    "collapsed": false
   },
   "id": "b6ccc76c91e11dd3"
  },
  {
   "cell_type": "code",
   "execution_count": null,
   "outputs": [],
   "source": [],
   "metadata": {
    "collapsed": false
   },
   "id": "8bde5ffdebb42006"
  }
 ],
 "metadata": {
  "kernelspec": {
   "display_name": "Python 3",
   "language": "python",
   "name": "python3"
  },
  "language_info": {
   "codemirror_mode": {
    "name": "ipython",
    "version": 2
   },
   "file_extension": ".py",
   "mimetype": "text/x-python",
   "name": "python",
   "nbconvert_exporter": "python",
   "pygments_lexer": "ipython2",
   "version": "2.7.6"
  }
 },
 "nbformat": 4,
 "nbformat_minor": 5
}
